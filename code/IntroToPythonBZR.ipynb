{
 "cells": [
  {
   "cell_type": "markdown",
   "metadata": {
    "editable": true,
    "slideshow": {
     "slide_type": ""
    },
    "tags": []
   },
   "source": [
    "# Introduction to Python\n",
    "MiCM Workshop - February 20, 2024\n",
    "\n",
    "Benjamin Z. Rudski, PhD Candidate, Quantitative Life Sciences, McGill University\n",
    "\n",
    "Dear `Reader | Workshop Attendee`,  \n",
    "Welcome! In this interactive Jupyter Notebook, I will introduce you to the [Python](https://www.python.org) programming language. In this journey, we'll go from understanding the basics of computers to creating variables, using functions and working with packages.\n",
    "\n",
    "This notebook is the **student version**, which contains several blanks where I will write code during the workshop and where you can fill out exercises. There is a **solution version** in the [`solutions`](../solutions/) folder. I recommend trying the exercises yourself before looking at the solutions, There is often more than one way to answer a programming question, so you should focus more on understanding the code that you are writing, instead of just copying my answers. You may come up with an answer better than the one I've provided!\n",
    "\n",
    "Here's the outline of this workshop:\n",
    "\n",
    "1.\tModule 1 – Introduction to Programming (30 minutes)\n",
    "    1.\tBasic Concepts and Definitions\n",
    "        1.\tWhat is a Computer?\n",
    "        2.\tWhat is a Program?\n",
    "        3.\tWhat are Programming Languages?\n",
    "    2.\tWelcome to Python\n",
    "        1.\tWhat is Python?\n",
    "        2.\tHow to Install Python\n",
    "        3.\tTools for Using Python\n",
    "2.\tModule 2 – Python Basics (1 hour, 15 minutes)\n",
    "    1.\tFoundations of Python - A Brief Overview of Types and Variables\n",
    "        1.\tPrimitive Data Types (int, float, bool, string)\n",
    "        2.\tVariables\n",
    "        3.\tCollection Data Types (tuples, lists, dictionaries)\n",
    "        4.\tIntroduction to Functions (Function as a Machine)\n",
    "    2.\tNumbers and Comparisons\n",
    "        1.\tMathematical Operations\n",
    "        2.\tIntegers and Floating-Point Numbers\n",
    "        3.\tBooleans\n",
    "    3.\tIntro to Control Flow and Loops (if, while and for)\n",
    "        1.\tControl Flow: the if Statement\n",
    "        2.\twhile Loops\n",
    "        3.\tIteration with for Loops\n",
    "    4.\tExercise: Numbers and Loops for Unit Conversion\n",
    "3.\tModule 3 – Strings and Collections: An Object Primer (1 hour)\n",
    "    1.\tIntroducing the String!\n",
    "        1.\tString Slicing\n",
    "        2.\tString Methods (concatenation and string formatting, converting strings to numbers, find and replace)\n",
    "        3.\tString Exercise: DNA Processing\n",
    "    2.\tIntroduction to Tuples, Lists and Dictionaries\n",
    "        1.\tTuples and Tuple Unpacking\n",
    "        2.\tLists and List Methods (adding, removing, slicing)\n",
    "        3.\tDictionaries (Key-Value storage, accessing, adding, removing)\n",
    "    3.\tExercise: Working with Strings and Collections for DNA and Protein Processing\n",
    "4.\tModule 4 – Modules and Packages (40 minutes)\n",
    "    1.\tUsing Modules\n",
    "        1.\tWhat is a Module?\n",
    "        2.\tImporting a Module\n",
    "        3.\tImporting Specific Functions\n",
    "    2.\tPackage Management\n",
    "        1.\tWhat is a Package?\n",
    "        2.\tInstalling Packages using conda \n",
    "        3.\tInstalling Packages using pip\n",
    "        4.\tOther Installation Tips\n",
    "        5.\tUsing Packages and Reading Documentation\n",
    "    3.\tExercise: importing a module from the standard library and using its functions.\n",
    "5.\tModule 5 – Where to go from here (10 minutes)\n",
    "    1.\tWhat to learn next? How?\n",
    "    2.\tHow to get help and how not to get help?\n",
    "        1.\tYour code editor\n",
    "        2.\tDocumentation\n",
    "        3.\tBooks\n",
    "        4.\tTutorials\n",
    "        5.\tStack Overflow (and pitfalls)\n",
    "        6.\tChatGPT (and pitfalls)\n",
    "    3.\tOther cool programming topics (to mention, not to cover)\n",
    "        1.\tWriting packages\n",
    "        2.\tObject-Oriented Programming\n",
    "        3.\tDeveloping Graphical User Interfaces\n",
    "        4.\tHosting projects on GitHub\n",
    "\n",
    "When this workshop is over, you should be able to write simple Python scripts. More importantly, I am hoping to give you *the tools* so that you can learn new Python skills and read package documentation to find what you need. **In my opinion, the most important part of programming is knowing how to get help when you need it.**"
   ]
  },
  {
   "cell_type": "markdown",
   "metadata": {
    "editable": true,
    "slideshow": {
     "slide_type": ""
    },
    "tags": []
   },
   "source": [
    "# Module 1 - Introduction to Programming\n",
    "\n",
    "Welcome! In this first module, we won't be writing any code, but we'll see a bit about what computers are and how we can tell them to perform different tasks. Here's the outline for this module:\n",
    "\n",
    "1.\tBasic Concepts and Definitions\n",
    "    1.\tWhat is a Computer?\n",
    "    2.\tWhat is a Program?\n",
    "    3.\tWhat are Programming Languages?\n",
    "2.\tWelcome to Python\n",
    "    1.\tWhat is Python?\n",
    "    2.\tHow to Install Python\n",
    "    3.\tTools for Using Python\n",
    "\n",
    "## Basic Concepts and Definitions\n",
    "\n",
    "This section deals with the big questions in life! What's a computer? What are we doing here? How are we doing it? What is the meaning of life??? Ok, maybe not that one... But still, here, we'll see the basic motivation for what we're doing.\n",
    "\n",
    "### What is a Computer? What is Programming?\n",
    "In this section, we'll briefly see what a computer is and how programming helps us do what we want to do with it.\n",
    "\n",
    "This is the inside of a computer:\n",
    "\n",
    "![Computer inside](../assets/Dell_G5_5000_motherboard.jpg)\n",
    "\n",
    "**Image credit:** [Dell G5 5000 motherboard.jpg](https://commons.wikimedia.org/wiki/File:Dell_G5_5000_motherboard.jpg), by [Project Kei](https://commons.wikimedia.org/wiki/User:Keita.Honda), licensed under the Creative Commons [Attribution-Share Alike 4.0 International](https://creativecommons.org/licenses/by-sa/4.0/deed.en) license.\n",
    "\n",
    "For our intents and purposes, a computer is a machine that has **two parts**:\n",
    "1. RAM (memory)\n",
    "2. CPU (processor)\n",
    "\n",
    "These parts each do very specific tasks:\n",
    "* The **memory** stores information that we want to process.\n",
    "* The **processor** performs operations on data, using inputs to produce an output.\n",
    "\n",
    "In reality, computers are much more complicated that these two parts, but these are the most important for us. \n",
    "\n",
    "### What is a Program?\n",
    "\n",
    "We have this hardware... but what can we do with it? We must provide it with a set of **instructions** to tell the hardware what to do. These instructions are a *program*. The job of *programming* involves writing instructions that tell the computer what *operations* the CPU should perform, and which *data* it should operate on.\n",
    "\n",
    "A program is a **text file**. That's it. Well, actually, not exactly, but that's part of it. We'll discuss more about this later.\n",
    "\n",
    "But... how are these instructions actually written? Introducing...\n",
    "\n",
    "### What are Programming Languages?\n",
    "\n",
    "**Programming languages** provide the rules for writing programs.\n",
    "\n",
    "Who are programming languages designed to help: you (the programmer) or the computer?\n",
    "\n",
    "Let's pause to think about it...\n",
    "\n",
    "The answer: **you**\n",
    "\n",
    "A program contains code that **you** write using a programming language. The computer only sees this as text. That's it. There's absolutely nothing special about the file. The computer doesn't run this text file. The computer has to turn this file into something that it can understand.\n",
    "\n",
    "Let's make a biology analogy. Let's think about DNA, RNA and Proteins. Let's ignore non-coding RNA and ribozymes and let's just focus on the classical paradigm of the central dogma. DNA encodes instructions to build proteins. But, the DNA itself doesn't do the same function as the protein. It only tells the cell how to make the protein. The DNA must be transcribed to RNA and then **translated** using the ribosome to form a functional protein. \n",
    "\n",
    "Well, computers are similar! The program is a text file containing instructions. **You** write code using a programming language, like Python, C++, Java, Kotlin, Swift, etc. All the computer sees is a text file. The computer must process it before it can run it.  The computer then needs to turn these instruction that are *human-readable* into instructions that are *machine-readable*. This is done either using an **interpreter** that runs code line-by-line, for languages like Python, or a **compiler** that process also the code, for languages like C++. "
   ]
  },
  {
   "cell_type": "markdown",
   "metadata": {
    "editable": true,
    "slideshow": {
     "slide_type": ""
    },
    "tags": []
   },
   "source": [
    "## Welcome to Python\n",
    "\n",
    "And now, for our major focus: Introducing Python!\n",
    "\n",
    "### What is Python?\n",
    "For more on the history, see: https://en.wikipedia.org/wiki/History_of_Python\n",
    "\n",
    "Python was introduced by Guido Van Rossum in 1991. It has a number of features:\n",
    "* Free and open source\n",
    "* Interpreted language\n",
    "* Object-oriented language\n",
    "\n",
    "#### Free and Open Source\n",
    "Being a free and open source language, anyone can download and use Python, but also more! Anyone can distribute Python and even modify Python, or contribute to its development. Python is developed by the **community** that uses it.\n",
    "\n",
    "#### Interpreted\n",
    "Python is an *interpreted* language, **not** a *compiled* language. This means that the entire program file is not translated into machine code before it is run. Instead, only parts of the program are translated when they need to be. This means that when you make a change to one part of a program, you don't need to rebuild your entire project. You often just need to restart your interpreter. This also means that you can open Python in your terminal, type in a single line, and it will work!\n",
    "\n",
    "#### Object-Oriented\n",
    "In Python, we use **objects** to represent things. Yeah... I know that doesn't really help. So, objects are a way of representing something, and they group together **data** about that thing (in the form of *attributes*) and **manipulations** that you can do with that thing (in the form of *methods*). Lots of things in Python are represented using these objects from strings of text to lists and you can even make your own (we won't cover that today).\n",
    "\n",
    "### How to install Python\n",
    "\n",
    "You've probably done this in the setup for the workshop. There are a number of ways to download Python. If you're on macOS or Linux, lucky you! You might already have Python installed. To see if you do, just open up a terminal window (on macOS, it should be under `Applications > Utilities > Terminal` and on Linux you may be able to just press `Ctrl+Alt+T` to open a terminal window). Once you're there, type `which python`. If you see something that isn't an error message, you already have python. You may also have to try `which python3`.\n",
    "\n",
    "Now, if you don't have Python installed, you can install it from Python's website at https://www.python.org or get it from the Windows Store or your local software repository on Linux. But, there's another way that is quite helpful: using a Python distribution such as **Anaconda** or **miniconda**. \n",
    "\n",
    "Why use Anaconda? Well, it comes with **many** pre-installed packages which are very helpful in science, such as NumPy, SciPy, Matplotlib, Pandas, and more! It's a bit of a big download and the install takes a bit of time, but it is definitely worth it. To get Anaconda, just go to https://www.anaconda.com/ and hit the big green `Download` button. There is a graphical installer for Windows and macOS and a text-based installer for Windows, macOS and Linux. If you don't want to perform a 600 MB download, you can opt for miniconda instead. Go https://docs.conda.io/en/latest/miniconda.html and click on one of the download links. \n",
    "\n",
    "Unlike Anaconda, miniconda doesn't come with the packages pre-installed, but it provides you with the `conda` tool to help you install them. We'll discuss Packages more later.\n",
    "\n",
    "Finally, if you don't want to install Python, then good news! If you have a Google Account, then you can use Python on the web. I'll discuss this more very soon.\n",
    "\n",
    "### Tools for Programming in Python\n",
    "\n",
    "There are many tools out there for programming in Python:\n",
    "* **Jupyter Notebooks:** Let's start with the tool that we're using now! This tool lets us combine code, explanations and figures. This is really good if you want to share your code with extra details. With a Google Account, you can use Jupyter notebooks remotely via **Google Colab**.\n",
    "* **`python` shell:** This is the most basic way of running a script in the command line or using an interpreter to run one line at a time.\n",
    "* **`ipython` shell:** Similar to the regular Python shell, but with better auto-complete and syntax highlighting.\n",
    "* **Microsoft Visual Studio Code:** code editor that can also be used for debugging and running Jupyter notebooks. Python extension necessary.\n",
    "* **Spyder:** Fully-fledged integrated development environment (IDE). Write and debug code, view figures.\n",
    "* **PyCharm:** Fully-fledged IDE developed by JetBrains. This tool is great for working on larger Python projects. Community edition is open-source.\n",
    "\n",
    "![vscode](../assets/vscode.png)  \n",
    "A familiar Jupyter notebook opened in Microsoft Visual Studio Code.\n",
    "\n",
    "![pycharm](../assets/pycharm.png)  \n",
    "Working with a Python file in PyCharm Community Edition.\n",
    "\n",
    "![spyder](../assets/spyder.png)\n",
    "A sample Spyder window. This may look familiar if you're used to working with MATLAB or RStudio."
   ]
  },
  {
   "cell_type": "markdown",
   "metadata": {},
   "source": [
    "## Module Summary\n",
    "\n",
    "We've made it to the end of this first module! Here are the main points that we covered:\n",
    "\n",
    "* **Computers** perform a variety of tasks that involve **performing operations** on **data**.\n",
    "* **Programs** give the computer a set of instructions to follow to perform this data processing.\n",
    "* We write programs using a **programming language** that defines the syntax for writing these instructions.\n",
    "* **Python** is a programming language that is **open source, interpreted and object-oriented**.\n",
    "* We can use a variety of **tools** to program in Python.\n",
    "\n",
    "\n",
    "That wasn't so bad! Well, now the coding begins."
   ]
  },
  {
   "cell_type": "markdown",
   "metadata": {
    "editable": true,
    "slideshow": {
     "slide_type": ""
    },
    "tags": []
   },
   "source": [
    "# Module 2 - Python Basics\n",
    "\n",
    "In this section, we'll see the basic, foundational concepts of programming in Python. We'll start with the basics of mathematical operations and we'll see variables for storing data. Then, we'll also start seeing how to get things done in Python. Along the way, I'll also point out possible places where users of different programming languages need to pay special attention.\n",
    "\n",
    "**Topics:**\n",
    "\n",
    "1.\tFoundations of Python - A Brief Overview of Types and Variables\n",
    "    1.\tPrimitive Data Types (int, float, bool, string)\n",
    "    2.\tVariables\n",
    "    3.\tCollection Data Types (tuples, lists, dictionaries)\n",
    "    4.\tIntroduction to Functions (Function as a Machine)\n",
    "2.\tNumbers and Comparisons\n",
    "    1.\tMathematical Operations\n",
    "    2.\tIntegers and Floating-Point Numbers\n",
    "    3.\tBooleans\n",
    "3.\tIntro to Control Flow and Loops (if, while and for)\n",
    "    1.\tControl Flow: the if Statement\n",
    "    2.\twhile Loops\n",
    "    3.\tIteration with for Loops\n",
    "4.\tExercise: Numbers and Loops for Unit Conversion"
   ]
  },
  {
   "cell_type": "markdown",
   "metadata": {
    "editable": true,
    "slideshow": {
     "slide_type": ""
    },
    "tags": []
   },
   "source": [
    "## Foundations of Python\n",
    "\n",
    "This section explores the most basic ways that we store small amounts of data. We'll see what types of data we can store and how we can combine pieces of data.\n",
    "\n",
    "But first! It's conventional that the first program we write in a new language is the \"Hello, World!\" program. This is a simple program that writes the text \"Hello, World!\" to the screen. In Python, it's quite easy to do:"
   ]
  },
  {
   "cell_type": "code",
   "execution_count": null,
   "metadata": {
    "editable": true,
    "slideshow": {
     "slide_type": ""
    },
    "tags": []
   },
   "outputs": [],
   "source": [
    "# Your exciting first line of Python code here!\n",
    "# In this line of code, we'll display, or print, the text string \"Hello, World!\"\n",
    "\n"
   ]
  },
  {
   "cell_type": "markdown",
   "metadata": {},
   "source": [
    "This very simple program introduces a few important ideas. You'll notice that the first line doesn't really look like code. Actually, it's not! The first line is a **comment**. We (and the computer) know this because the line starts with the symbol `#`. Python ignores that symbol and everything that comes after it, letting you write notes about what your code is doing. It's very important to put comments in your code, especially if you're going to need to come back to it after a few weeks or if you're going to share it with other people.\n",
    "\n",
    "On the second line, we have two things:\n",
    "* the `print` *function*\n",
    "* the *string* \"Hello, World!\"\n",
    "\n",
    "The `print` function displays output to the screen or to the console. While it's not necessary in this Jupyter notebook (which automatically outputs the result of the last line of code), it's very helpful if you're ever writing code in a different program, like *PyCharm* or *Spyder*. We'll discuss functions in more detail later, but the idea is that functions take inputs, known as **arguments**, do operations on them and optionally return some sort of modified result. Here, the `print` function takes in the **string** of text \"Hello, World!\", writes it onto the screen and doesn't return any new data.\n",
    "\n",
    "The **argument** that we pass to this function is the text **string** `\"Hello, World!\"`. We'll discuss strings in more detail later. The important thing is that a string is a group of characters surrounded by quotation marks (either single quotes `'Hello'` or double quotes `\"Hello\"`).\n",
    "\n",
    "Don't worry if this doesn't make sense! We'll explain each part of it as we go along. By the end of this workshop, you'll understand what this line does!\n",
    "\n",
    "Now that we've passed this important milestone, let's dive into basic Python!"
   ]
  },
  {
   "cell_type": "markdown",
   "metadata": {},
   "source": [
    "### Primitive Data Types\n",
    "\n",
    "Working with the computer is all about processing information. Yay! That's great! Except... what does this information look like? In Python, information can be stored in many different **types**. These types represent numbers, text, and more! Let's start by discussing the **building blocks of everything**, known as the **primitive types**.\n",
    "\n",
    "In Python, there are four different **primitive types**:\n",
    "\n",
    "1. Integers - `int`\n",
    "2. Decimal numbers - `float`\n",
    "3. True or false Boolean values - `bool`\n",
    "4. Text strings - `str`\n",
    "\n",
    "Let's take a look at each of these in a bit more detail. We can get the type of a value using the `type` function.\n",
    "\n",
    "#### Integers\n",
    "\n",
    "No big surprise, integers are whole numbers without a decimal. We write them... well, as a whole number without a decimal. For example, to represent the number 4 in Python, we'd write:\n"
   ]
  },
  {
   "cell_type": "code",
   "execution_count": null,
   "metadata": {},
   "outputs": [],
   "source": [
    "# Your code here to represent the number 4\n"
   ]
  },
  {
   "cell_type": "markdown",
   "metadata": {},
   "source": [
    "You'll notice some placeholder text that I've written in the box above. Remember, this is a **comment**. Python ignores everything on a line that comes after the `#` symbol. This sort of text is designed to help anyone reading your code understand what it's doing."
   ]
  },
  {
   "cell_type": "markdown",
   "metadata": {},
   "source": [
    "There's an extra trick if you're working with really big numbers. To avoid confusion, you can add underscores to make the number easier to read:"
   ]
  },
  {
   "cell_type": "code",
   "execution_count": null,
   "metadata": {},
   "outputs": [],
   "source": [
    "# Your code here for a really big number\n"
   ]
  },
  {
   "cell_type": "markdown",
   "metadata": {},
   "source": [
    "We'll see what we can do with these numbers soon."
   ]
  },
  {
   "cell_type": "markdown",
   "metadata": {},
   "source": [
    "#### Decimal Numbers\n",
    "\n",
    "In programming, a decimal number is known as a **floating-point number** or a **`float`**. These numbers are, unsurprisingly, written as numbers with decimals:"
   ]
  },
  {
   "cell_type": "code",
   "execution_count": null,
   "metadata": {},
   "outputs": [],
   "source": [
    "# Your code here to write 4 as a float\n"
   ]
  },
  {
   "cell_type": "markdown",
   "metadata": {},
   "source": [
    "Another way of writing floating-point numbers is to use **scientific notation**. Let's see an example:"
   ]
  },
  {
   "cell_type": "code",
   "execution_count": null,
   "metadata": {},
   "outputs": [],
   "source": [
    "# Your code here to write 5 * 10^3 in scientific notation\n"
   ]
  },
  {
   "cell_type": "markdown",
   "metadata": {},
   "source": [
    "Note that even if we don't have a decimal here, our value is a floating point number. We can check this using the `type` function:"
   ]
  },
  {
   "cell_type": "code",
   "execution_count": null,
   "metadata": {},
   "outputs": [],
   "source": [
    "# Your code here to check the type of what we wrote before.\n"
   ]
  },
  {
   "cell_type": "markdown",
   "metadata": {},
   "source": [
    "We'll see more operations on these values very soon."
   ]
  },
  {
   "cell_type": "markdown",
   "metadata": {},
   "source": [
    "#### Boolean Values\n",
    "\n",
    "A **Boolean** represents one of two states: True or False. In Python, these values are represented using the names `True` and `False`."
   ]
  },
  {
   "cell_type": "code",
   "execution_count": null,
   "metadata": {},
   "outputs": [],
   "source": [
    "# Your code here to show a Boolean value\n"
   ]
  },
  {
   "cell_type": "markdown",
   "metadata": {},
   "source": [
    "These may seem very simple, but we'll soon see that Booleans are **extremely important**."
   ]
  },
  {
   "cell_type": "markdown",
   "metadata": {},
   "source": [
    "#### Strings\n",
    "\n",
    "In programming, we refer to text as a **string**. When writing a string, we **must** put it inside quotation marks. In Python, these can be single quotation marks (''), or double quotation marks (\"\"). The important thing is to use the same quotation mark to open and close your string. Let's see some examples:"
   ]
  },
  {
   "cell_type": "code",
   "execution_count": null,
   "metadata": {},
   "outputs": [],
   "source": [
    "# Your code here for working with strings.\n"
   ]
  },
  {
   "cell_type": "markdown",
   "metadata": {},
   "source": [
    "We'll see that there's a lot more that we can do with these strings. Let's say you want to have a long string that spans multiple lines and you want to keep the line breaks. Well, you can use a *triple-quoted* string to do just this."
   ]
  },
  {
   "cell_type": "code",
   "execution_count": null,
   "metadata": {},
   "outputs": [],
   "source": [
    "# Your code here for example of triple-quoted string.\n"
   ]
  },
  {
   "cell_type": "markdown",
   "metadata": {},
   "source": [
    "We have a whole section on strings coming up! So, stay tuned!\n",
    "\n",
    "**Note:** It is ***super important*** to remember to put quotation marks around your string. Otherwise, Python will get mad at you."
   ]
  },
  {
   "cell_type": "markdown",
   "metadata": {},
   "source": [
    "### Variables\n",
    "\n",
    "So, we've seen basic data types, but they're not really useful if we can't store the values. To store data, we use **variables**. A **variable** gives a *name* to a piece of data stored in memory so that you can easily access it later. The information stored in a variable can change (or **vary**).\n",
    "\n",
    "**Note:** Python has no constants. Only variables. If you come from a language that has constants, I'm sorry.\n",
    "\n",
    "#### Variable Names\n",
    "There are rules for naming a variable:\n",
    "* Variable names are **case-sensitive**.\n",
    "* A variable name must contain only letters, numbers and underscores.\n",
    "* A variable name cannot start with a number.\n",
    "* A variable name cannot be the same as a reserved word in Python (see [here](https://docs.python.org/3/reference/lexical_analysis.html#keywords) for list).\n",
    "\n",
    "A variable name may consist of multiple words combined. There are a few different conventions for putting words together. Two common ones are known as `snake_case` and `camelCase`:\n",
    "* In `snake_case`, all letters are lowercase and words are separated by underscores.\n",
    "* In `camelCase`, different words are combined with no spaces, and the first letter of a new word is put as a capital.\n",
    "\n",
    "Different people use different conventions. Your code editor may suggest one over the other (for example, PyCharm prefers `snake_case`). The choice depends on your project setup and any existing code you may be adding to.\n",
    "\n",
    "**Notes:** \n",
    "\n",
    "* Although you can combine words together, try to keep variable names reasonably concise.\n",
    "* Although Python has no constants, `ALL_CAPS_NAMES` are sometimes used to denote variables that shouldn't change.\n",
    "* Variable names *can* start with underscores, but this often has a special meaning.\n",
    "\n",
    "Now, to test your skills, find the incorrect variable names and what the problems are:\n",
    "* `my_variable12.3`\n",
    "* `-myVariableName2`\n",
    "* `@myVariable`\n",
    "* `my-variable&`\n",
    "* `my+variable`\n",
    "* `23variable`\n",
    "* `my_variable2`\n",
    "* `myVariable`\n",
    "* `myV#ariable`\n",
    "* `my_variaBle_32`\n",
    "* `import`\n",
    "* `my_import`"
   ]
  },
  {
   "cell_type": "markdown",
   "metadata": {},
   "source": [
    "#### Variable Assignment\n",
    "\n",
    "The way that we assign a variable is easy. We just use the `=` sign. That's it. We can also change the value of a variable by just assigning a new value using the equal sign (and so, the value **varies**).\n",
    "\n",
    "Now, let's do a few examples of variable assignment. Here, we'll make use of the `print` function to track the value of the variables.\n",
    "\n",
    "1. **Assignment**  \n",
    " Let's create a variable called `my_variable` with the value `42`."
   ]
  },
  {
   "cell_type": "code",
   "execution_count": null,
   "metadata": {},
   "outputs": [],
   "source": [
    "# Your code here for variable assignment\n"
   ]
  },
  {
   "cell_type": "markdown",
   "metadata": {},
   "source": [
    "2. **Reassignment**  \n",
    " We can easily reassign a value using the equal sign again. Let's re-assign our variable `my_variable` to have the value `16`."
   ]
  },
  {
   "cell_type": "code",
   "execution_count": null,
   "metadata": {},
   "outputs": [],
   "source": [
    "# Your code here for variable reassignment\n"
   ]
  },
  {
   "cell_type": "markdown",
   "metadata": {},
   "source": [
    "3. **Changing type**  \n",
    " There's no requirement for the new value to be of the same type as the original. Let's assign the string `\"Hello\"` to our variable `my_variable`:"
   ]
  },
  {
   "cell_type": "code",
   "execution_count": null,
   "metadata": {},
   "outputs": [],
   "source": [
    "# Your code here to assign a string\n"
   ]
  },
  {
   "cell_type": "markdown",
   "metadata": {},
   "source": [
    "### Collection Types\n",
    "\n",
    "So, we've seen how to store individual numbers and bits of text. Well, let's say we want to store a lot of values. If we have a small number, we can just create a bunch of variables:"
   ]
  },
  {
   "cell_type": "code",
   "execution_count": null,
   "metadata": {},
   "outputs": [],
   "source": [
    "# Your code here to create three variables with numbers\n"
   ]
  },
  {
   "cell_type": "markdown",
   "metadata": {},
   "source": [
    "Ok... so, this is a bit hard to manage for even small numbers of variables. Instead of working with multiple variables, we use **collection types**. A **collection** stores *multiple* values. We'll see three main types of collections:\n",
    "\n",
    "1. Tuples - store a small fixed number of values.\n",
    "2. Lists - store multiple values; can add or remove elements.\n",
    "3. Dictionaries - store multiple values based on keys; can add or remove elements.\n",
    "\n",
    "We'll go into more detail about each later, but first let's see some examples. Each collection type has specific notation:\n",
    "\n",
    "1. Tuples - Values separated by commas between parentheses `(a, b)`\n",
    "2. Lists - Values separated by commas between square brackets `[a, b]`\n",
    "3. Dictionaries - Keys-Value pair defined by colons, separated by commas between brace brackets `{a:b, c:d}`\n",
    "\n",
    "Confused? Let's see some examples.\n",
    "\n",
    "First, a tuple example:"
   ]
  },
  {
   "cell_type": "code",
   "execution_count": null,
   "metadata": {},
   "outputs": [],
   "source": [
    "# Your code here to create a tuple\n"
   ]
  },
  {
   "cell_type": "markdown",
   "metadata": {},
   "source": [
    "Now, let's see a list:"
   ]
  },
  {
   "cell_type": "code",
   "execution_count": null,
   "metadata": {},
   "outputs": [],
   "source": [
    "# Your code here to create a list\n"
   ]
  },
  {
   "cell_type": "markdown",
   "metadata": {},
   "source": [
    "And now a dictionary:"
   ]
  },
  {
   "cell_type": "code",
   "execution_count": null,
   "metadata": {},
   "outputs": [],
   "source": [
    "# Your code here to create a dictionary\n"
   ]
  },
  {
   "cell_type": "markdown",
   "metadata": {},
   "source": [
    "We'll see all of these in **much** more detail later. For now, what's important is that you know they exist. We'll see how to use them later."
   ]
  },
  {
   "cell_type": "markdown",
   "metadata": {},
   "source": [
    "### Introduction to Functions\n",
    "\n",
    "So far, we've seen how to store data... but our code hasn't actually done anything. We'll see soon how to start writing code that makes decisions and does calculations. But first, let's talk about **functions**.\n",
    "\n",
    "We can think of a **function** as a sort of machine. It takes **inputs**, does some sort of operation on them, and produces **outputs**. People often represent functions as a little black box.\n",
    "\n",
    "![black box](../assets/Function.png)\n",
    "\n",
    "When we use a function, this is known as **calling** the function. When we *call a function*, we tell it what data to use to perform the operations and where to store the result (typically in a variable). The syntax to call a function and store its result in a variable `x` is as follows:\n",
    "\n",
    "```python\n",
    "    x = function_name(arguments_here)\n",
    "```\n",
    "\n",
    "We've actually already seen a function! We used the `print` function a while ago. This function takes a string that we want to display, shows it on the screen and doesn't return any output. Let's call this function:"
   ]
  },
  {
   "cell_type": "code",
   "execution_count": null,
   "metadata": {},
   "outputs": [],
   "source": [
    "# Your code here to call the `print` function\n"
   ]
  },
  {
   "cell_type": "markdown",
   "metadata": {},
   "source": [
    "Python has other built-in functions available. For example, we can use the `abs` function to take the absolute value of a number:"
   ]
  },
  {
   "cell_type": "code",
   "execution_count": null,
   "metadata": {},
   "outputs": [],
   "source": [
    "# Your code here to call the absolute value function on some input and store it in a variable.\n"
   ]
  },
  {
   "cell_type": "markdown",
   "metadata": {},
   "source": [
    "We'll talk a bit more about functions later. The important thing to remember about functions is that they are **defined packets of behaviour** that **encapsulate** certain operations. We call them on inputs and they produce outputs without us having to worry about the internal details."
   ]
  },
  {
   "cell_type": "markdown",
   "metadata": {},
   "source": [
    "## Numbers and Comparisons\n",
    "\n",
    "We've seen how we can store data in variables. But just storing the data is boring! In this section, we'll start talking about things that we can *do* with the data. Specifically, we'll see operations that we can do on numbers and Booleans."
   ]
  },
  {
   "cell_type": "markdown",
   "metadata": {},
   "source": [
    "### Mathematical Operations\n",
    "\n",
    "Python gives users the ability to perform simple mathematical operations on numbers. The following operations that you know very well can be easily done:\n",
    "* **Addition** is performed using the `+` operator\n",
    "* **Subtraction** is performed using the `-` operator\n",
    "* **Multiplication** is performed using the `*` operator\n",
    "* **Division** is performed using the `/` operator (does not round)\n",
    "\n",
    "Python offers a few other operations as well:\n",
    "* **Exponents** can be taken using the `**` operator (**NOT** `^`)\n",
    "* **Modulus** (remainder) can be taken using the `%` operator (**Warning:** for anyone who uses MATLAB, this is **not** a comment!)\n",
    "* **Integer division** (dividing and rounding down) can be performed using the `//` operator (**Warning:** for anyone who knows Java or C or any number of other languages, this is **not** a comment in Python!)\n",
    "\n",
    "To perform a basic mathematical operation, all you need to do is type in the numbers, along with the operator, in the same way that you'd write the expression on paper. For example, to add 5 and 4, we would write the following:"
   ]
  },
  {
   "cell_type": "code",
   "execution_count": null,
   "metadata": {},
   "outputs": [],
   "source": [
    "# Put your code here\n"
   ]
  },
  {
   "cell_type": "markdown",
   "metadata": {},
   "source": [
    "We can also chain operations together. Remember that the rules of **BEMDAS** apply. Let's do an example to show this. \n",
    "\n",
    "Write code that computes and prints the following results: $4+5\\times 3$ and $(4+5) \\times 3$. \n",
    "\n",
    "**Hint:** Remember the `print` function from above and use it to show the result of two different calculations in the same Jupyter notebook cell."
   ]
  },
  {
   "cell_type": "code",
   "execution_count": null,
   "metadata": {},
   "outputs": [],
   "source": [
    "# Put your code here\n"
   ]
  },
  {
   "cell_type": "markdown",
   "metadata": {},
   "source": [
    "These examples contained integers, known in Python as `int`s. We can also do calculations that involve decimal numbers, known as **floating point numbers** or simply, `float`s. We can also mix the two different types of numbers.\n",
    "\n",
    "**NOTE:** For anyone who has used C, Java or Swift (or many other languages), Python does ***not*** have a separate `double` type. Python also doesn't have type modifiers like `long` or `unsigned`. If you wind up working with NumPy, then you may have to think about different types of integers and floating point numbers (but, we won't talk about that today)."
   ]
  },
  {
   "cell_type": "markdown",
   "metadata": {},
   "source": [
    "Now, it's your turn! Write code to perform the following calculations:\n",
    "* $3\\times 4 - 6 \\div 2$\n",
    "* $(3.23 + 5.2) \\times 4.3^2$\n",
    "* $\\textup{floor}(\\frac{5}{2}) \\times (6 \\mod 4)$"
   ]
  },
  {
   "cell_type": "code",
   "execution_count": null,
   "metadata": {},
   "outputs": [],
   "source": [
    "# Put your code here\n",
    "\n"
   ]
  },
  {
   "cell_type": "markdown",
   "metadata": {},
   "source": [
    "These rules don't only apply when working with numbers. We can also plug in variables that hold numeric values.\n",
    "\n",
    "For example, let's set `a=5`, `b=4`, `c=2`. Let's compute the following:\n",
    "\n",
    "* $a\\times b \\div c$\n",
    "* $(a + b) \\mod c$"
   ]
  },
  {
   "cell_type": "code",
   "execution_count": null,
   "metadata": {},
   "outputs": [],
   "source": [
    "# Your code here\n"
   ]
  },
  {
   "cell_type": "markdown",
   "metadata": {},
   "source": [
    "We just saw that we can use variables in our calculations. We can also easily assign the results of calculations to variables. Let's some variable assignment. \n",
    "\n",
    "Let's create a variable called `my_variable` with the value `35`. Let's then multiply it by `2` and store this result in the same `my_variable` variable."
   ]
  },
  {
   "cell_type": "code",
   "execution_count": null,
   "metadata": {},
   "outputs": [],
   "source": [
    "# Your code here\n"
   ]
  },
  {
   "cell_type": "markdown",
   "metadata": {},
   "source": [
    "This assignment looked a bit bulky! For some of these operations, we have a shortcut so that we don't have to rewrite the variable name twice. For each operation, we can use a new assignment operator:\n",
    "* We replace assignment and `+` with `+=`\n",
    "* We replace assignment and `-` with `-=`\n",
    "* We replace assignment and `*` with `*=`\n",
    "* We replace assignment and `/` with `/=`\n",
    "* We replace assignment and `**` with `**=`\n",
    "* We replace assignment and `%` with `%=`\n",
    "* We replace assignment and `//` with `//=`\n",
    "\n",
    "So, we can rewrite the last example we did:"
   ]
  },
  {
   "cell_type": "code",
   "execution_count": null,
   "metadata": {},
   "outputs": [],
   "source": [
    "# Your code here\n"
   ]
  },
  {
   "cell_type": "markdown",
   "metadata": {},
   "source": [
    "For more information on `int`s and `float`s and the numeric types in Python, see [this page](https://docs.python.org/3/library/stdtypes.html#typesnumeric) from the official Python documentation."
   ]
  },
  {
   "cell_type": "markdown",
   "metadata": {},
   "source": [
    "### Booleans\n",
    "\n",
    "A **boolean** represents a value that is either `True` or `False`. In this section, we'll see how to generate them, and then we'll see fun things we can do with them!\n",
    "\n",
    "#### Comparisons\n",
    "\n",
    "Think back to when you were starting to learn math... What was one of the first things they taught you? For me, it was **comparisons** and **inequalities**. We had two numbers, and we had to put the correct sign, `>,<,=` in between (some of you were maybe also told to think of a crocodile opening its mouth to the bigger number...).\n",
    "\n",
    "Well, this is an important idea in programming too! We can use the following operations to generate boolean values. Let's say that `a` and `b` are both numbers (either `int`s or `float`s):\n",
    "* `a > b` -- **greater than**, evaluates to `True` if `a` is bigger than `b`, otherwise evaluates to `False`\n",
    "* `a >= b`-- **greater than or equal to**\n",
    "* `a < b` -- **less than**\n",
    "* `a <= b` -- **less than or equal to**\n",
    "* `a == b` -- **equal** -- ***NOTE:*** there are ***TWO*** equal signs!!!!!\n",
    "* `a != b` -- **not equal**\n",
    "\n",
    "Again, I want to emphasize that for the equals comparison, you must must must put two equal signs `==`! Otherwise, Python will think you're trying to assign a variable and it will get mad at you and give you an error!\n",
    "\n",
    "Also, for `>=` and `<=`, the order of the two signs matters! Do **NOT** write `=>` or `=<`! If you forget, remember that the order is the same as we read it. **Less that or equal to** is first *less than*, so `<` and then *equal to*, so `=`, so the order is `<=`.\n",
    "\n",
    "Now, let's see some examples:"
   ]
  },
  {
   "cell_type": "code",
   "execution_count": null,
   "metadata": {},
   "outputs": [],
   "source": [
    "# Your code here\n",
    "a = ...\n",
    "b = ...\n",
    "\n",
    "# Complete these lines: # Your code here\n",
    "print(\"a is greater than b:\", ...)\n",
    "print(\"a is less than b:\", ...)\n",
    "print(\"a is equal to b:\", ...)\n",
    "print(\"a is not equal to b:\", ...)\n",
    "print(\"a is greater than or equal to b:\", ...)\n",
    "print(\"a is less than or equal to b:\", ...)"
   ]
  },
  {
   "cell_type": "markdown",
   "metadata": {},
   "source": [
    "Feel free to change the values of `a` and `b` and see how the output changes!"
   ]
  },
  {
   "cell_type": "markdown",
   "metadata": {},
   "source": [
    "These operations don't only work on numbers! We can use `==` and `!=` on just about any other data. Let's see some examples on strings:"
   ]
  },
  {
   "cell_type": "code",
   "execution_count": null,
   "metadata": {},
   "outputs": [],
   "source": [
    "# Your code here for string comparisons\n"
   ]
  },
  {
   "cell_type": "code",
   "execution_count": null,
   "metadata": {},
   "outputs": [],
   "source": [
    "# Your code here for string comparisons\n"
   ]
  },
  {
   "cell_type": "markdown",
   "metadata": {},
   "source": [
    "These types of comparisons are very important. We'll see why in a bit... But first, let's see some other cool things we can do with Booleans."
   ]
  },
  {
   "cell_type": "markdown",
   "metadata": {},
   "source": [
    "#### Boolean Operations\n",
    "\n",
    "We've seen how to generate booleans using numbers and strings. We can also perform operations on booleans to get... more booleans! These three operations are **logical operations**:\n",
    "* `and`\n",
    "* `or`\n",
    "* `not`\n",
    "\n",
    "#### The `and` operation\n",
    "The `and` operation takes **two** boolean values `a` and `b`. If **both** `a` and `b` are `True`, then `a and b` is also `True`. Otherwise, `a and b` is `False`. People coming from other programming languages may know `and` as `&&` or `&`. We can represent this operation using a **truth table**:\n",
    "\n",
    "| `a` | `b` | `a and b` |\n",
    "| --- | --- | --- |\n",
    "| `False` | `False` | `False` |\n",
    "| `False` | `True` | `False` |\n",
    "| `True` | `False` | `False` |\n",
    "| `True` | `True` | `True` |\n",
    "\n",
    "Let's also see some examples:\n"
   ]
  },
  {
   "cell_type": "code",
   "execution_count": null,
   "metadata": {},
   "outputs": [],
   "source": [
    "# Your code here for a simple example\n",
    "\n"
   ]
  },
  {
   "cell_type": "markdown",
   "metadata": {},
   "source": [
    "In practice, you'll often work with Booleans that you've generated using comparisons. Now, let's a more complicated example. Let's set `a=4`, `b=5` and `c=6` and evaluate `(a < b) and (c > b)`:"
   ]
  },
  {
   "cell_type": "code",
   "execution_count": null,
   "metadata": {},
   "outputs": [],
   "source": [
    "# Your code here for a more complicated example\n"
   ]
  },
  {
   "cell_type": "markdown",
   "metadata": {},
   "source": [
    "Let's think about that last example: we have `a=4`, `b=5`, `c=6`. We're looking at the logical expression\n",
    "```python\n",
    "a < b and c > b\n",
    "```\n",
    "\n",
    "So, we start by breaking it up into the two parts:\n",
    "* `a < b`\n",
    "* `c > b`\n",
    "\n",
    "Now, we look at each part separately:\n",
    "* `a < b`: well, we have `a=4` and `b=5`, so we have `4 < 5`, which is `True`\n",
    "* `c > b`: we have `c=6` and `b=5`, so we have `6 > 5`, which is `True`\n",
    "\n",
    "Now, we can put these two back together: for `a < b and c > b` both the left and the right are `True`, which makes the whole expression `True`!"
   ]
  },
  {
   "cell_type": "markdown",
   "metadata": {},
   "source": [
    "#### The `or` operation\n",
    "\n",
    "The `or` operation also takes **two** boolean values `a` and `b`, but it evaluates to `True` if **at least one** of `a` or `b` is `True`. If both values are `False`, then `a or b` is `False`. Otherwise, `a or b` is `True`. In other programming languages, the `or` operation is represented as `a || b` or `a | b`.\n",
    "\n",
    "To help visualise, here's the truth table:\n",
    "\n",
    "| `a` | `b` | `a or b` |\n",
    "| --- | --- | --- |\n",
    "| `False` | `False` | `False` |\n",
    "| `False` | `True` | `True` |\n",
    "| `True` | `False` | `True` |\n",
    "| `True` | `True` | `True` |\n",
    "\n",
    "Now, let's do some examples"
   ]
  },
  {
   "cell_type": "code",
   "execution_count": null,
   "metadata": {},
   "outputs": [],
   "source": [
    "# Your code here for a simple example\n"
   ]
  },
  {
   "cell_type": "markdown",
   "metadata": {},
   "source": [
    "Once again, you'll often work directly with numbers and comparisons. Let's do an example where we have `a = 5`, `b = 6`, `c = 7` and let's evaluate `a > b or c > b`:"
   ]
  },
  {
   "cell_type": "code",
   "execution_count": null,
   "metadata": {},
   "outputs": [],
   "source": [
    "# Your code here for a numeric example:\n"
   ]
  },
  {
   "cell_type": "markdown",
   "metadata": {},
   "source": [
    "Let's go through that last example. We have `a=5`, `b=6`, `c=7`. Let's again break up our expression into two parts:\n",
    "* `a > b`\n",
    "* `c > b`\n",
    "\n",
    "Let's look at each one:\n",
    "* `a > b` --> `5 > 6` --> `False`\n",
    "* `c > b` --> `7 > 6` --> `True`\n",
    "\n",
    "Since at least one of the two boolean values is `True`, then `a > b or c > b` is `True`.\n",
    "\n",
    "We don't have to use comparisons of variables of all the same type. Let's set `n1 = 5`, `n2 = 6` and `password = \"Hello\"`. Let's now check to see if the product of the two numbers is less than 28 **or** the password is equal to `\"World\"`:"
   ]
  },
  {
   "cell_type": "code",
   "execution_count": null,
   "metadata": {},
   "outputs": [],
   "source": [
    "# Your code here for a more complicated example:\n"
   ]
  },
  {
   "cell_type": "markdown",
   "metadata": {},
   "source": [
    "Let's now change the password to `\"World\"` and try again:"
   ]
  },
  {
   "cell_type": "code",
   "execution_count": null,
   "metadata": {},
   "outputs": [],
   "source": [
    "# Your code here...\n"
   ]
  },
  {
   "cell_type": "markdown",
   "metadata": {},
   "source": [
    "Hopefully, you're starting to see that we can use these booleans to make decisions. We'll come back to this idea **really soon**."
   ]
  },
  {
   "cell_type": "markdown",
   "metadata": {},
   "source": [
    "#### The `not` operation\n",
    "\n",
    "The `not` operation only takes in **one** boolean value `a` and flips its value. If `a` is `True`, then `not a` is `False` and if `a` is `False`, then `not a` is `True`. In other languages, it may be represented by `!a` or `~a`.\n",
    "\n",
    "Here's the truth table:\n",
    "\n",
    "| `a` | `not a` |\n",
    "| --- | --- |\n",
    "|`False` | `True`|\n",
    "|`True` | `False` |\n",
    "\n",
    "The easy way to understand it is that it's opposite day! When you add the `not` operator, everything that is usually `True` becomes `False` and everything that is usually `False` becomes `True`. And here are a couple of examples:"
   ]
  },
  {
   "cell_type": "code",
   "execution_count": null,
   "metadata": {},
   "outputs": [],
   "source": [
    "# Your code here for a simple example\n"
   ]
  },
  {
   "cell_type": "markdown",
   "metadata": {},
   "source": [
    "As usual, we're not often going to work directly with Booleans. Let's do a numeric example. Let's set `a=6` and `b=8`. Let's evaluate `not a > b`:"
   ]
  },
  {
   "cell_type": "code",
   "execution_count": null,
   "metadata": {},
   "outputs": [],
   "source": [
    "# Your code here for a numeric example\n"
   ]
  },
  {
   "cell_type": "markdown",
   "metadata": {},
   "source": [
    "For the last example, let's look a bit more closely. We have `a=6` and `b=8`.\n",
    "\n",
    "The value of `a > b` is `6 > 8`, which is `False`. But the `not` operation flips this from `False` to `True`.\n",
    "\n",
    "**Note:** When you want to invert equality, *DO NOT* do `not a == b`. We have an operation that does this in one step, called `!=`. So, you should do `a != b` instead. It's cleaner and simpler."
   ]
  },
  {
   "cell_type": "markdown",
   "metadata": {},
   "source": [
    "Now that we have a basic understanding of booleans, let's see one of their most practical uses..."
   ]
  },
  {
   "cell_type": "markdown",
   "metadata": {},
   "source": [
    "## Intro to Control Flow and Loops\n",
    "\n",
    "So far, our code has just run line-by-line. Everything we've written has run. But, we have ways of making decisions and repeating certain lines. In this section, we'll see how to do this using:\n",
    "\n",
    "* Control Flow\n",
    "* `while` Loops\n",
    "* `for` Loops "
   ]
  },
  {
   "cell_type": "markdown",
   "metadata": {},
   "source": [
    "### Control Flow: the `if` Statement\n",
    "\n",
    "Let's say you're heading down to campus. You take the metro and get off at Peel. You get out at the corner of Peel and de Maisonneuve and look around. In your head, you're thinking, `if` Peel is open, I'll walk up there, otherwise (`else`), I'll go to Metcalfe. **Congratulations!!!** You've just done control flow!\n",
    "\n",
    "Control flow is about **making decisions** using boolean values. The important keyword here is `if`. Our basic control flow has the structure:\n",
    "```python\n",
    "    if boolean_value:\n",
    "        do_something\n",
    "\n",
    "    some_other_code_here...\n",
    "```\n",
    "\n",
    "Here are a few things to note:\n",
    "* there is a **colon** (:) after the boolean value.\n",
    "* the line `do_something` only runs if the `boolean_value` evaluates to `True`. \n",
    "* the line `do_something` is **indented**. In other languages, you might be used to curly brackets. Python **DOES NOT** use these. In Python, different blocks of code are indented. Also, note that in Python, we don't need to write `end` when we're done! It's enough to stop indenting.\n",
    "* the line `some_other_code_here` runs *regardless* of whether the `boolean_value` is `True`. We can tell because it's **not** indented.\n",
    "\n",
    "Let's see an example to help illustrate."
   ]
  },
  {
   "cell_type": "code",
   "execution_count": null,
   "metadata": {},
   "outputs": [],
   "source": [
    "# Your code here\n"
   ]
  },
  {
   "cell_type": "markdown",
   "metadata": {},
   "source": [
    "Try changing the variable `peel_is_closed` to `False` and see what happens...\n",
    "\n",
    "You may have noticed that the lines under the `if` statement are indented. That tells Python that they will only run when the `if` condition is met. The lines underneath that aren't indented tell Python that they run no matter what.\n",
    "\n",
    "You may have also noticed that I didn't write:\n",
    "```python\n",
    "if peel_is_closed == True\n",
    "```\n",
    "\n",
    "This isn't necessary, since we already have a boolean. Putting in the extra comparison makes our code less clean. Also, just try reading the code like it's a sentence. It even sounds like a conversation:\n",
    "\"If Peel is closed, [print] I'm taking Metcalfe\".\n",
    "\n",
    "Now, we can also replace the boolean with one of the comparisons we have above..."
   ]
  },
  {
   "cell_type": "code",
   "execution_count": null,
   "metadata": {},
   "outputs": [],
   "source": [
    "# Freezing point example: Your code here\n"
   ]
  },
  {
   "cell_type": "markdown",
   "metadata": {},
   "source": [
    "In this example, we put an expression that evaluates to a boolean after the `if`. Try setting the value of `current_temperature` to be above zero and see what happens."
   ]
  },
  {
   "cell_type": "markdown",
   "metadata": {},
   "source": [
    "In the last example, it would've been nice if we could print a different message if we were above freezing... or if we're in some different temperature range. Well, we can do this with `elif` clauses and a final `else` clause! We can extend the structure do be:\n",
    "\n",
    "```python\n",
    "    if some_boolean:\n",
    "        do_something\n",
    "    elif some_other_boolean:\n",
    "        do_something_else\n",
    "    elif yet_another_boolean:\n",
    "        do_another_something_else\n",
    "    ...\n",
    "    else:\n",
    "        all_else_has_failed_so_lets_do_this\n",
    "```\n",
    "\n",
    "So, if the `some_boolean` is `True`, then the line `do_something` runs. If it isn't `True`, then we test to see if `some_other_boolean` is `True`. If it is, then we run `do_something_else`. Otherwise, we keep going down the list of conditions until one of them is `True`. If all conditions are `False`, then the code under `else` runs.\n",
    "\n",
    "**Notes:**\n",
    "* There is no limit to the number of `elif` clauses you can have. You can have zero, one, or as many as you want.\n",
    "* There is no requirement to add an `else` clause. You can lots of `elif` clauses without a final `else`.\n",
    "* You can only have at most **one** `else` clause.\n",
    "\n",
    "Now, for practice, let's write code that again takes a temperature, and this time tells you specifically if you are:\n",
    "* below freezing\n",
    "* at freezing\n",
    "* above freezing"
   ]
  },
  {
   "cell_type": "code",
   "execution_count": null,
   "metadata": {},
   "outputs": [],
   "source": [
    "# Freezing point example: Your code here\n"
   ]
  },
  {
   "cell_type": "markdown",
   "metadata": {},
   "source": [
    "We can also use variables that are strings. For example, let's say we want our code to be friendly to users in the US. We want to have a variable `units` that can be `C`, `F` or `K` to determine whether our temperature is in Celsius, Fahrenheit or Kelvin and decide on freezing based on that:"
   ]
  },
  {
   "cell_type": "code",
   "execution_count": null,
   "metadata": {},
   "outputs": [],
   "source": [
    "# Your code here for example with units\n"
   ]
  },
  {
   "cell_type": "markdown",
   "metadata": {},
   "source": [
    "### `while` loops\n",
    "\n",
    "So, control flow is great for choosing which lines of code to run, but what if we want to run a line more than once? To do this, we can use **loops**. There are two main kinds of loops in Python:\n",
    "* `while` loops\n",
    "* `for` loops\n",
    "\n",
    "They are similar, but `for` loops run for a predetermined number of times and `while` loops run for an arbitrary number of iterations. We'll start with `while` loops.\n",
    "\n",
    "Syntax:\n",
    "\n",
    "```python\n",
    "    while some_boolean:\n",
    "        do_some_code\n",
    "    \n",
    "    code_after_loop...\n",
    "```\n",
    "\n",
    "Now, you'll pretty much **NEVER** want to put a raw boolean value in the `while`. You'll instead want to use some sort of operation that returns a boolean. This operation usually involves a variable that you update in the loop. Again, notice the indent!\n",
    "\n",
    "Sticking with our temperature theme... Let's write an example where the temperature starts at -15 and increases by 2° at every iteration until it hits 10°. At each iteration, we print a message saying the current temperature and whether we are below, at or above freezing:"
   ]
  },
  {
   "cell_type": "code",
   "execution_count": null,
   "metadata": {},
   "outputs": [],
   "source": [
    "current_temperature = -15\n",
    "\n",
    "# Your code here\n"
   ]
  },
  {
   "cell_type": "markdown",
   "metadata": {},
   "source": [
    "Try changing the increment or the starting value to see the differences in the output."
   ]
  },
  {
   "cell_type": "markdown",
   "metadata": {},
   "source": [
    "### Iteration with `for` loops\n",
    "\n",
    "`for` loops are a bit simpler, since they involve running for a pre-determined number of times. To use a `for` loop, we need something to iterate over. One basic iterable uses the `range` function.\n",
    "\n",
    "The `range` function takes up to three arguments:\n",
    "```python\n",
    "    range(a,b,c)\n",
    "```\n",
    "\n",
    "This function gives you all the numbers going from `a` up to but excluding `b`, skipping by `c`. If you leave out the last argument, it will give you every number from `a` to `b`. If you only give one argument, it will give you every number from 0 to that number (excluding it).\n",
    "\n",
    "Here is the `for` loop syntax:\n",
    "```python\n",
    "\n",
    "    for var_name in iterable:\n",
    "        some_code\n",
    "    \n",
    "    code_when_finished\n",
    "\n",
    "```\n",
    "\n",
    "At each step, we get a new value stored in `var_name`.\n",
    "\n",
    "Let's see an example where we're calculating the squares of all numbers between 1 and 10 (excluding 10):"
   ]
  },
  {
   "cell_type": "code",
   "execution_count": null,
   "metadata": {},
   "outputs": [],
   "source": [
    "# Your code here\n"
   ]
  },
  {
   "cell_type": "markdown",
   "metadata": {},
   "source": [
    "Another common iterable is a list. Let's see an example of iterating over a list of integers:"
   ]
  },
  {
   "cell_type": "code",
   "execution_count": null,
   "metadata": {},
   "outputs": [],
   "source": [
    "# Your code here for iterating over a list\n"
   ]
  },
  {
   "cell_type": "markdown",
   "metadata": {},
   "source": [
    "Sometimes, you may want to interrupt a loop early, or skip one iteration. For this, we have the keywords `break` and `continue`.\n",
    "\n",
    "We use `break` if we want to stop going through a loop. For example, let's say we are using a `for` loop to calculate squares, but we don't want to go above 50:"
   ]
  },
  {
   "cell_type": "code",
   "execution_count": null,
   "metadata": {},
   "outputs": [],
   "source": [
    "# Your code here\n"
   ]
  },
  {
   "cell_type": "markdown",
   "metadata": {},
   "source": [
    "For an example with `continue`, let's say we have a list and we only want to compute squares of all even numbers:"
   ]
  },
  {
   "cell_type": "code",
   "execution_count": null,
   "metadata": {},
   "outputs": [],
   "source": [
    "# Your code here\n",
    "\n",
    "# Here's our list\n",
    "my_list = [5, 23, 4, 1, 2, 2, 6, 7, 8, 5, 3, 4, 8]\n"
   ]
  },
  {
   "cell_type": "markdown",
   "metadata": {},
   "source": [
    "These two keywords can also be used in `while` loops."
   ]
  },
  {
   "cell_type": "markdown",
   "metadata": {},
   "source": [
    "## Exercise: Temperature Conversions\n",
    "\n",
    "We have reached the end of this module!!!\n",
    "\n",
    "Here's a mini-project to work on based on what we saw this module:"
   ]
  },
  {
   "cell_type": "markdown",
   "metadata": {},
   "source": [
    "In the United States, the temperature is commonly reported in Fahrenheit. But, here in Canada (and in much of the rest of the world), the temperature is recorded in Celsius. The conversion to Fahrenheit from Celsius is given by:\n",
    "$$\n",
    "    \\textup{F} = \\frac{9}{5}\\textup{C} + 32\n",
    "$$\n",
    "\n",
    "To convert from Fahrenheit back to Celsius, we use the equation:\n",
    "$$\n",
    "    \\textup{C} = \\frac{5}{9}(\\textup{F} - 32)\n",
    "$$\n",
    "\n",
    "(P.S. if you ever forget, easy way to remember: the relationship is linear -- the lines intersect at -40 -- and we know that water freezes at 32°F and 0°C and boils at 212°F and 100°C; with any two of these three points, you can definitely find the line)."
   ]
  },
  {
   "cell_type": "markdown",
   "metadata": {},
   "source": [
    "First, let's write code to convert between the two units. Users will include an input temperature and input unit (either as `\"F\"` or `\"C\"`) and the code should convert to the other unit."
   ]
  },
  {
   "cell_type": "code",
   "execution_count": null,
   "metadata": {},
   "outputs": [],
   "source": [
    "# Your code here\n"
   ]
  },
  {
   "cell_type": "markdown",
   "metadata": {},
   "source": [
    "Now, for another example, let's find the temperature in Fahrenheit for all Celsius temperatures from $-40^\\circ \\textup{C}$ to $+35^\\circ \\textup{C}$ (inclusively), incrementing by $5^\\circ$.\n",
    "\n",
    "**BONUS:** Write this code twice: once using a `for` loop and once using a `while` loop."
   ]
  },
  {
   "cell_type": "code",
   "execution_count": null,
   "metadata": {},
   "outputs": [],
   "source": [
    "# Put your code here...\n"
   ]
  },
  {
   "cell_type": "markdown",
   "metadata": {},
   "source": [
    "### BONUS: Replacing `for` Loops with `while` Loops\n",
    "\n",
    "Any time that you use a `for` loop, you can actually use a `while` loop instead. It's just not always as nice and clean:"
   ]
  },
  {
   "cell_type": "code",
   "execution_count": null,
   "metadata": {},
   "outputs": [],
   "source": [
    "# Done using a `for` loop\n",
    "for i in range(10):\n",
    "    print(\"The value of i is now\", i)\n",
    "    # print(\"The operation 2 * i gives us:\", 2 * i)\n",
    "\n",
    "\n",
    "# Done using a `while` loop.\n",
    "i = 0\n",
    "\n",
    "while i < 10:\n",
    "    print(\"The value of i is now\", i)\n",
    "    i += 1"
   ]
  },
  {
   "cell_type": "markdown",
   "metadata": {},
   "source": [
    "## Module Summary\n",
    "\n",
    "Congratulations! You've made it through the basics! In this module we've seen:\n",
    "\n",
    "* How to *store* different *types* of data in **variables**.\n",
    "* How to perform *basic mathematical operations* on **integers** and **floating-point numbers**.\n",
    "* How to perform **boolean operations** and apply these to **control flow** through **`if` statements**.\n",
    "* How to repeat tasks using **`for` and `while` loops**."
   ]
  },
  {
   "cell_type": "markdown",
   "metadata": {},
   "source": [
    "# Module 3 - Strings and Collections: An Object Primer\n",
    "\n",
    "In this module, we'll take things up to a new level. We've seen how to write code that does stuff with basic data, such as numbers and booleans. We've also played a bit with strings. Now, let's go into a bit more depth on strings and collections."
   ]
  },
  {
   "cell_type": "markdown",
   "metadata": {},
   "source": [
    "## Introducing the String!\n",
    "\n",
    "A **string** is a sequence of text characters, surrounded by quotation marks. We saw an example above when we wrote the \"Hello, World!\" program. We can use either single quotes or double quotes:"
   ]
  },
  {
   "cell_type": "code",
   "execution_count": null,
   "metadata": {},
   "outputs": [],
   "source": [
    "# Your code here\n"
   ]
  },
  {
   "cell_type": "markdown",
   "metadata": {},
   "source": [
    "We can also use triple-quotes to have a longer string that has line breaks in it."
   ]
  },
  {
   "cell_type": "code",
   "execution_count": null,
   "metadata": {},
   "outputs": [],
   "source": [
    "# Your code here\n"
   ]
  },
  {
   "cell_type": "markdown",
   "metadata": {},
   "source": [
    "These types of strings will be useful later on. It's very very very important that you remember the quotation marks! Otherwise, Python will think you're talking about variables:"
   ]
  },
  {
   "cell_type": "code",
   "execution_count": null,
   "metadata": {},
   "outputs": [],
   "source": [
    "# Your code here to produce an error\n"
   ]
  },
  {
   "cell_type": "code",
   "execution_count": null,
   "metadata": {},
   "outputs": [],
   "source": [
    "# Your code here to produce successful code\n"
   ]
  },
  {
   "cell_type": "markdown",
   "metadata": {},
   "source": [
    "There's lots of stuff that we can do with these strings. Let's discuss a few operations on strings."
   ]
  },
  {
   "cell_type": "markdown",
   "metadata": {},
   "source": [
    "Printing strings is great, but we want to actually process them. We can use the `len` function to get the number of characters in a string:"
   ]
  },
  {
   "cell_type": "code",
   "execution_count": null,
   "metadata": {},
   "outputs": [],
   "source": [
    "# Your code here\n"
   ]
  },
  {
   "cell_type": "markdown",
   "metadata": {},
   "source": [
    "**NOTE**: Those of you who have learned Java have undoubtedly seen that you can't compare strings with the `==` operator. Well, good news! In Python, you **CAN**."
   ]
  },
  {
   "cell_type": "code",
   "execution_count": null,
   "metadata": {
    "scrolled": true
   },
   "outputs": [],
   "source": [
    "string1 = \"Hello\"\n",
    "string2 = str(\"Hello\")\n",
    "\n",
    "print(\"Checking string equality:\", string1 == string2)"
   ]
  },
  {
   "cell_type": "markdown",
   "metadata": {},
   "source": [
    "Even though we made a new `str` object, the equality still holds!"
   ]
  },
  {
   "cell_type": "markdown",
   "metadata": {},
   "source": [
    "### String Slicing\n",
    "\n",
    "We can also access individual characters or substrings using the **bracket operator** `[]`. But first, we need to talk about **indexing**. In a Python string, every character has a numbered position. It's **extremely** important to remember that in Python, the first position is indexed with the number **0**.\n",
    "\n",
    "Again, I'll repeat that...\n",
    "\n",
    "***The first character in a Python string has index 0.***\n",
    "\n",
    "So, you can also figure out that the last character in a string with *n* characters has index *n-1*, **not** *n*.\n",
    "\n",
    "This diagram should help clarify it:\n",
    "\n",
    "![string indexing](../assets/StringIndexingPositive.png)\n",
    "\n",
    "Note that blank spaces are counted! To get the character at an index, stored in variable `i`, we'd write the following:\n",
    "\n",
    "```python\n",
    "character_of_interest = my_string[i]\n",
    "```\n",
    "\n",
    "To get a substring starting at index `i` and going to the character at index `j` (**excluding** that character), we write:\n",
    "```python\n",
    "my_substring = my_string[i:j]\n",
    "```\n",
    "\n",
    "If we omit `i`, then we get everything from the beginning up to (but **excluding**) `j`. If we omit `j`, then we get the substring starting at index `i`.\n",
    "\n",
    "We can even skip every `k` characters by adding a third number:\n",
    "```python\n",
    "my_substring = my_string[i:j:k]\n",
    "```\n",
    "\n",
    "Now, let's see some examples of string indexing and taking substrings. In Python, this process is commonly referred to as *slicing*."
   ]
  },
  {
   "cell_type": "code",
   "execution_count": null,
   "metadata": {},
   "outputs": [],
   "source": [
    "my_string = \"my string text\"\n",
    "\n",
    "# Your code here\n",
    "\n",
    "# Let's look at single characters\n",
    "print(\"The first character in the string is:\", ...)\n",
    "print(\"The last character in the string is:\", ...)\n",
    "\n",
    "# Now, let's look at substrings\n",
    "print(\"The substring from index 3 to index 12 is:\", ...)\n",
    "\n",
    "# Now, let's skip a few characters\n",
    "print(\"The substring from 5 to the end, skipping every 2 is:\", ...)"
   ]
  },
  {
   "cell_type": "markdown",
   "metadata": {},
   "source": [
    "Python also has a great feature where we can use **negative** indices! The last character has an index of -1 and the values go back to -n, where n is the length of the string. Here's an updated diagram:\n",
    "\n",
    "![Negative indices](../assets/StringIndexingNegative.png)\n",
    "\n",
    "Now, it's your turn! Let's do some string indexing with negative indices. **Note:** We *can* combine positive and negative indices."
   ]
  },
  {
   "cell_type": "code",
   "execution_count": null,
   "metadata": {},
   "outputs": [],
   "source": [
    "# Reproduce the above strings using negative indexing where convenient\n",
    "my_string = \"my string text\"\n",
    "\n",
    "# Your code here\n",
    "\n",
    "# Let's look at single characters\n",
    "print(\"The first character in the string is:\", ...)\n",
    "print(\"The last character in the string is:\", ...)\n",
    "\n",
    "# Now, let's look at substrings\n",
    "print(\"The substring from index 3 to index 12 is:\",  ...)\n",
    "print(\"The substring from the beginning to index 6 is:\", ...)\n",
    "print(\"The substring from index 7 to the end is:\", ...)"
   ]
  },
  {
   "cell_type": "markdown",
   "metadata": {},
   "source": [
    "One last note on string slicing and indexing: Strings are **immutable**, meaning that you can't change any of the individual characters or substrings. You can create a new string using existing strings, but you **cannot** change the content of a string."
   ]
  },
  {
   "cell_type": "code",
   "execution_count": null,
   "metadata": {},
   "outputs": [],
   "source": [
    "# This code produces an error:\n",
    "# my_string[3] = 'b'"
   ]
  },
  {
   "cell_type": "markdown",
   "metadata": {},
   "source": [
    "### String Operations and Methods\n",
    "\n",
    "#### Concatenation and Formatting\n",
    "A common operation on strings is **concatenation**, or combining strings. We can combine strings with the `+` sign:"
   ]
  },
  {
   "cell_type": "code",
   "execution_count": null,
   "metadata": {},
   "outputs": [],
   "source": [
    "string_1 = \"Hello,\"\n",
    "string_2 = \"World!\"\n",
    "\n",
    "# Your code here\n",
    "\n",
    "\n",
    "print(\"Concatenated string is:\", concatenated_string)"
   ]
  },
  {
   "cell_type": "markdown",
   "metadata": {},
   "source": [
    "This example shows something very important! Concatenation does **NOT** add in any spaces. It just takes the two strings and combines them together. If you want there to be spaces, you need to make sure to add them in!\n",
    "\n",
    "Also, concatenation only works on **strings**! Let's look at this example:"
   ]
  },
  {
   "cell_type": "code",
   "execution_count": null,
   "metadata": {},
   "outputs": [],
   "source": [
    "string_1 = \"The meaning of life, the universe and everything is \"\n",
    "meaning_of_life = 42\n",
    "\n",
    "# This gives an error!\n",
    "# print(string_1 + meaning_of_life)"
   ]
  },
  {
   "cell_type": "markdown",
   "metadata": {},
   "source": [
    "This is very important to remember if you know JavaScript! Running this gives us an error! We can't concatenate an integer and a string. If we want to add the two together, we **must convert the `int` to a string** using `str`:"
   ]
  },
  {
   "cell_type": "code",
   "execution_count": null,
   "metadata": {},
   "outputs": [],
   "source": [
    "string_1 = \"The meaning of life, the universe and everything is \"\n",
    "meaning_of_life = 42\n",
    "\n",
    "# Your code here\n",
    "\n",
    "\n",
    "print(complete_sentence)"
   ]
  },
  {
   "cell_type": "markdown",
   "metadata": {},
   "source": [
    "But, there's a shortcut using **string formatting**, or **f-strings**, which let you put a variable directly into a string:\n",
    "```python\n",
    "my_formatted_string = f\"The meaning of life, the universe and everything is... {meaning_of_life}\"\n",
    "```"
   ]
  },
  {
   "cell_type": "code",
   "execution_count": null,
   "metadata": {},
   "outputs": [],
   "source": [
    "# Your code here for string formatting\n"
   ]
  },
  {
   "cell_type": "markdown",
   "metadata": {},
   "source": [
    "Notice that there is an **f** before the opening quotation mark and that the variable goes in curly braces. This tool makes life **much** easier! There are also cool ways of formatting numbers with extra zeros and spaces... but we won't see them today."
   ]
  },
  {
   "cell_type": "markdown",
   "metadata": {},
   "source": [
    "#### Converting Strings to Numbers\n",
    "\n",
    "Let's say, you've gotten some data from a file or the internet and it contains a number. You want to do some sort of mathematical operation on it... and you rush to Python and you do this:\n",
    "\n",
    "```python\n",
    "    my_number_from_file = \"32.3\"\n",
    "\n",
    "    my_answer = 3 * my_number_from_file\n",
    "\n",
    "    print(\"The answer to my computation is:\", my_answer)\n",
    "```\n",
    "\n",
    "What do you think will print?"
   ]
  },
  {
   "cell_type": "code",
   "execution_count": null,
   "metadata": {},
   "outputs": [],
   "source": [
    "my_number_from_file = \"32.3\"\n",
    "\n",
    "# Your code here to multiply by 3\n",
    "\n",
    "\n",
    "print(\"The answer to my computation is:\", my_answer)"
   ]
  },
  {
   "cell_type": "markdown",
   "metadata": {},
   "source": [
    "The answer may surprise you. Depending on which operation you're doing, you'll either get:\n",
    "* a complete nonsense answer\n",
    "* an error\n",
    "\n",
    "There's an important step that we need to do before we can do any mathematical operations: we must convert the strings to numeric types. This is very easy:\n",
    "* To convert a string to a `float`, just call the `float()` function with the string as the argument.\n",
    "* To convert a string to an `int`, just call the `int()` function with the string as the argument.\n",
    "\n",
    "For example:"
   ]
  },
  {
   "cell_type": "code",
   "execution_count": null,
   "metadata": {},
   "outputs": [],
   "source": [
    "my_string_float = \"32.3\"\n",
    "my_string_int = \"41\"\n",
    "\n",
    "# Fill in the blanks to perform the type conversions\n",
    "# Your code here\n",
    "\n",
    "\n",
    "print(\"The product of 32.3 and 41 is:\", my_float * my_int)"
   ]
  },
  {
   "cell_type": "markdown",
   "metadata": {},
   "source": [
    "**Fun fact**: The `int` function can also be used on numbers that are not base-10!"
   ]
  },
  {
   "cell_type": "markdown",
   "metadata": {},
   "source": [
    "### Finding a Substring - Intro to Methods and Objects\n",
    "And now, for a string exercise! Remember that I said you can't change the contents of a string. Well, let's now create a new string that has a single character that is different. And, since this is an MiCM workshop, let's use DNA as an example."
   ]
  },
  {
   "cell_type": "code",
   "execution_count": null,
   "metadata": {},
   "outputs": [],
   "source": [
    "dna_sequence = \"AAGGACCTTAGAAGGGGACCATTATTAAATTCCCGCA\""
   ]
  },
  {
   "cell_type": "markdown",
   "metadata": {},
   "source": [
    "There are more things that we can do with strings. In Python, strings are a type of **object**. An **object** is a grouping of variables, known as **attributes**, and functions, known as **methods** that all relate to one thing. String objects have various methods that we can use, or **call**, to do different things with the text contents. To call a method, we use the syntax\n",
    "\n",
    "```python\n",
    "    variable_name.method_name(arguments)\n",
    "```\n",
    "\n",
    "***This syntax will look quite familiar to anyone coming from Java or a C-based language. It may be a bit confusing for people coming from R or MATLAB. Remember, in Python, the dot `.` is NOT part of the variable name. It is an operator that lets us access functions and variables that belong to certain objects.***\n",
    "\n",
    "Remember from earlier that **functions** may take inputs, or **arguments**, perform calculations, and then **return** outputs. Let's see a few examples of methods that we can use on strings.\n",
    "\n",
    "For example, one method we can use on strings is `find`. Let's look at the documentation to see what this method does: https://docs.python.org/3/library/stdtypes.html#str.find\n",
    "\n",
    "The `find` method looks for a specified substring within a whole string, or part of a string, and returns the index where it is located."
   ]
  },
  {
   "cell_type": "code",
   "execution_count": null,
   "metadata": {},
   "outputs": [],
   "source": [
    "dna_sequence = \"AAGGACCTTAGAAGGGGACCATTATTAAATTCCCGCA\"\n",
    "\n",
    "# Put in your code to find the index of the first T nucleotide\n",
    "\n",
    "\n",
    "print(\"The first thymine nucleotide is located at index\", index_of_first_t)\n",
    "print(dna_sequence[index_of_first_t])"
   ]
  },
  {
   "cell_type": "markdown",
   "metadata": {},
   "source": [
    "### Replacing Characters\n",
    "\n",
    "Well, let's say we want to replace this `T` nucleotide with a `G` nucleotide. We can use another useful method: `replace`. As the name suggests, this method replaces specified characters or substrings with the provided new ones. It's documentation is [here](https://docs.python.org/3/library/stdtypes.html#str.replace).\n",
    "\n",
    "The syntax is:\n",
    "```python\n",
    "    new_string = my_string.replace(\"old\", \"new\", optional_count)\n",
    "```\n",
    "\n",
    "Let's go back to our DNA sequence and replace only the first `T` with `G`:"
   ]
  },
  {
   "cell_type": "code",
   "execution_count": null,
   "metadata": {},
   "outputs": [],
   "source": [
    "# Your code here\n",
    "\n",
    "\n",
    "print(\"Our modified sequence is:\", mutated_dna_sequence)"
   ]
  },
  {
   "cell_type": "markdown",
   "metadata": {},
   "source": [
    "There are many more methods we can call for strings. To learn more, see the `str` reference on the Python documentation website (https://docs.python.org/3/library/stdtypes.html#text-sequence-type-str)."
   ]
  },
  {
   "cell_type": "markdown",
   "metadata": {},
   "source": [
    "## String Iteration and the `for` Loop\n",
    "\n",
    "Remember, earlier we saw the `for` loop. Well, we can do fun things with the `for` loop in strings! We can iterate over each character in the string.\n",
    "\n",
    "Here's the syntax:\n",
    "\n",
    "```python\n",
    "    for c in my_string:\n",
    "        do_something\n",
    "```\n",
    "\n",
    "Here, `c` is a single character in the string. Let's see an example:"
   ]
  },
  {
   "cell_type": "code",
   "execution_count": null,
   "metadata": {},
   "outputs": [],
   "source": [
    "my_dna_sequence = \"ACGGACAGGAGCGAGATTTGACAGCATTA\"\n",
    "\n",
    "number_of_purines = 0\n",
    "number_of_pyrimidines = 0\n",
    "\n",
    "# Your code here\n",
    "\n",
    "\n",
    "print(f\"In our sequence there are {number_of_purines} purines and {number_of_pyrimidines} pyrimidines.\")"
   ]
  },
  {
   "cell_type": "markdown",
   "metadata": {},
   "source": [
    "There's actually an easy way to clean up our boolean conditions. Instead of using string equality, we can check if the nucleotide is contained in a string using the `in` keyword:"
   ]
  },
  {
   "cell_type": "code",
   "execution_count": null,
   "metadata": {},
   "outputs": [],
   "source": [
    "my_dna_sequence = \"ACGGACAGGAGCGAGATTTGACAGCATTA\"\n",
    "\n",
    "number_of_purines = 0\n",
    "number_of_pyrimidines = 0\n",
    "\n",
    "# Your code here to simplify\n",
    "\n",
    "\n",
    "print(f\"In our sequence there are {number_of_purines} purines and {number_of_pyrimidines} pyrimidines.\")"
   ]
  },
  {
   "cell_type": "markdown",
   "metadata": {},
   "source": [
    "### Exercise: DNA transcription and mRNA processing\n",
    "\n",
    "Now that we're done discussing variables, numeric types and strings, let's do a few exercises!\n",
    "\n",
    "1. Ahhh, the joys of transcription! Remember that DNA and RNA share *most* of their nucleotides, but they differ in one of the pyrimidines. DNA has thymine while RNA has uracil. I'm giving you the **non-template** strand DNA. Recall that the non-template strand is identical to the produced mRNA, with the exception that the thymine is replaced by uracil. \n",
    "\n",
    "Replace all the thymine nucleotides with uracil to get the result of transcription.\n",
    "\n",
    "(a) The non-template strand is `AGCAGATGCATTAGCCATTAGTTTGCACCAGTATATGCAGAGTTTAGGAGACCATAATTAACGAGAGCCGATAGCTAGA`."
   ]
  },
  {
   "cell_type": "code",
   "execution_count": null,
   "metadata": {},
   "outputs": [],
   "source": [
    "dna_sequence = \"AGCAGATGCATTAGCCATTAGTTTGCACCAGTATATGCAGAGTTTAGGAGACCATAATTAACGAGAGCCGATAGCTAGA\"\n",
    "\n",
    "# Put your code here\n"
   ]
  },
  {
   "cell_type": "markdown",
   "metadata": {},
   "source": [
    "(b) (Time Permitting) Now, let's say the **template** strand is `AGCAGATGCATTAGCCATTAGTTTGCACCAGTATATGCAGAGTTTAGGAGACCATAATTAACGAGAGCCGATAGCTAGA`. Now, you must find the complementary nucleotides to transcribe to mRNA.\n",
    "\n",
    "**Remember:** we first need to find the complementary strand and reverse the direction!"
   ]
  },
  {
   "cell_type": "code",
   "execution_count": null,
   "metadata": {},
   "outputs": [],
   "source": [
    "dna_sequence = \"AGCAGATGCATTAGCCATTAGTTTGCACCAGTATATGCAGAGTTTAGGAGACCATAATTAACGAGAGCCGATAGCTAGA\"\n",
    "\n",
    "# Put your code here\n"
   ]
  },
  {
   "cell_type": "markdown",
   "metadata": {},
   "source": [
    "2. In eukaryotes, mRNA must be processed before it is translated by the ribosome. This processing involves three steps:\n",
    "* Capping\n",
    "* Splicing\n",
    "* Polyadenylation\n",
    "\n",
    "We'll skip the capping, but let's now do some splicing! We won't deal with actual splice sites. Instead, let's say that there are introns at the following indices (start and end both in intron):\n",
    "* Start at the ninth **nucleotide** and ending at the 17th nucleotide\n",
    "* Start at 20 nucleotides from the end of the sequence and going until 12 from the end\n",
    "\n",
    "Splice out these introns and stick the exons together."
   ]
  },
  {
   "cell_type": "code",
   "execution_count": null,
   "metadata": {},
   "outputs": [],
   "source": [
    "# Your code here for splicing\n"
   ]
  },
  {
   "cell_type": "markdown",
   "metadata": {},
   "source": [
    "Now, for polyadenylation, add a sequence of 15 `A` nucleotides. Hint: you can use the `*` operator to repeat a string!"
   ]
  },
  {
   "cell_type": "code",
   "execution_count": null,
   "metadata": {},
   "outputs": [],
   "source": [
    "# Your code here for polyadenylation\n"
   ]
  },
  {
   "cell_type": "markdown",
   "metadata": {},
   "source": [
    "3. What is the maximum number of codons we could fit in a sequence with the same length as the original? How many nucleotides would be left over?"
   ]
  },
  {
   "cell_type": "code",
   "execution_count": null,
   "metadata": {},
   "outputs": [],
   "source": [
    "# Your code here for calculations\n"
   ]
  },
  {
   "cell_type": "markdown",
   "metadata": {},
   "source": [
    "## Collection Types - Introduction to Tuples, Lists and Dictionaries\n",
    "\n",
    "We've seen that we can store data in basic types, like strings, `int`s and `float`s. But, let's say we want to store many of these at a time. For example, let say we have 100 DNA sequences that we want to store and process? Well, for this we have **collection types**. In this section, we'll see three important collection types:\n",
    "* Tuples\n",
    "* Lists\n",
    "* Dictionaries\n",
    "\n",
    "For more information on tuples and lists, see [this page](https://docs.python.org/3/library/stdtypes.html#sequence-types-list-tuple-range) of the Python documentation. For more info about dictionaries, see [here](https://docs.python.org/3/library/stdtypes.html#mapping-types-dict)."
   ]
  },
  {
   "cell_type": "markdown",
   "metadata": {},
   "source": [
    "### Tuples\n",
    "\n",
    "A tuple is a way of packaging a fixed number of values together. The number of values can't be changed, and neither can the values themselves. Tuples are **immutable**, like strings. Remember, though, we can always assign a new tuple to the same variable. Tuples are represented using multiple values separated by commas within round brackets (parentheses) -- `()`."
   ]
  },
  {
   "cell_type": "code",
   "execution_count": null,
   "metadata": {},
   "outputs": [],
   "source": [
    "# Your code here\n"
   ]
  },
  {
   "cell_type": "code",
   "execution_count": null,
   "metadata": {},
   "outputs": [],
   "source": [
    "# Your code here\n"
   ]
  },
  {
   "cell_type": "code",
   "execution_count": null,
   "metadata": {},
   "outputs": [],
   "source": [
    "# Your code here\n"
   ]
  },
  {
   "cell_type": "markdown",
   "metadata": {},
   "source": [
    "#### Accessing Elements\n",
    "There are two different ways to access individual elements in a tuple:\n",
    "* Slicing\n",
    "* Unpacking\n",
    "\n",
    "When working with tuples, **slicing** works the *exact same way* that it did with strings, described above.\n",
    "\n",
    "Sorry to be pedantic and repetitive, but remember that **_INDEXING STARTS AT ZERO_**.\n",
    "\n",
    "Fill in the following example to confirm that.\n",
    "\n",
    "We have the tuple `(4, 5, \"Hello\", \"World!\", 12, True, 4.5)`.\n",
    "\n",
    "1. Use slicing to isolate the sub-tuple containing \"Hello\" and \"World!\".\n",
    "2. Use slicing to get the last two elements."
   ]
  },
  {
   "cell_type": "code",
   "execution_count": null,
   "metadata": {},
   "outputs": [],
   "source": [
    "my_tuple = (4, 5, \"Hello\", \"World!\", 12, True, 4.5)"
   ]
  },
  {
   "cell_type": "code",
   "execution_count": null,
   "metadata": {},
   "outputs": [],
   "source": [
    "# Put your code here for question 1.\n"
   ]
  },
  {
   "cell_type": "code",
   "execution_count": null,
   "metadata": {},
   "outputs": [],
   "source": [
    "# Put your code here for question 2.\n"
   ]
  },
  {
   "cell_type": "markdown",
   "metadata": {},
   "source": [
    "#### Tuple Unpacking\n",
    "**Unpacking** is a different process. Let's say we have a tuple with 2 elements in it. We can assign each one of these elements to a variable, like this:"
   ]
  },
  {
   "cell_type": "code",
   "execution_count": null,
   "metadata": {},
   "outputs": [],
   "source": [
    "my_point = (-3, 5)\n",
    "\n",
    "# Your code here to assign x and y\n",
    "...\n",
    "\n",
    "print(\"The value of my point is:\", my_point)\n",
    "print(\"The value of x is:\", x)\n",
    "print(\"The value of y is:\", y)"
   ]
  },
  {
   "cell_type": "markdown",
   "metadata": {},
   "source": [
    "**NOTE:** You **MUST** have the same number of variables and the number of elements in the tuple. Otherwise, unpacking won't work and you'll get an error from Python.\n",
    "\n",
    "Finally, like with strings, we can concatenate tuples using the `+` operation."
   ]
  },
  {
   "cell_type": "code",
   "execution_count": null,
   "metadata": {},
   "outputs": [],
   "source": [
    "# Your code here to concatenate tuples\n"
   ]
  },
  {
   "cell_type": "markdown",
   "metadata": {},
   "source": [
    "### Lists and List Methods\n",
    "\n",
    "List are more exciting than tuples. Lists are **mutable**! So, we can add entries to a list, remove entries from a list, and change the entries in a list. Lists are represented as comma-separated values in square brackets -- `[]`. Unlike tuples, we can't unpack lists. Lists also *usually* contain elements of the same or similar type (although they don't have to)."
   ]
  },
  {
   "cell_type": "code",
   "execution_count": null,
   "metadata": {},
   "outputs": [],
   "source": [
    "# Your code here\n",
    "# Here's an example of a list\n",
    "\n"
   ]
  },
  {
   "cell_type": "code",
   "execution_count": null,
   "metadata": {},
   "outputs": [],
   "source": [
    "# Your code here for another example list\n"
   ]
  },
  {
   "cell_type": "code",
   "execution_count": null,
   "metadata": {},
   "outputs": [],
   "source": [
    "# Your code here for yet another example list\n"
   ]
  },
  {
   "cell_type": "markdown",
   "metadata": {},
   "source": [
    "Now, I've told you all these great things that we can do with lists... but how do we do them?"
   ]
  },
  {
   "cell_type": "markdown",
   "metadata": {},
   "source": [
    "#### Length of a List\n",
    "Well, let's start with the simplest thing... taking the **length** of a list. We do this in the exact same way that we took the length of a string! We use the `len` function."
   ]
  },
  {
   "cell_type": "code",
   "execution_count": null,
   "metadata": {},
   "outputs": [],
   "source": [
    "my_squares = [1, 4, 9, 16, 25, 36, 49, 64, 81, 100, 121]\n",
    "# Your code here\n"
   ]
  },
  {
   "cell_type": "markdown",
   "metadata": {},
   "source": [
    "#### List Slicing\n",
    "\n",
    "We can obtain individual items and sublists through *slicing*, exactly the same way that we did with strings and tuples.\n",
    "\n",
    "Here's an exercise to test your skills with this...\n",
    "\n",
    "I'm giving you this list: `[1, 1, 2, 3, 5, 8, 13, 21, 34]`\n",
    "\n",
    "Using slicing, find:\n",
    "* the last element\n",
    "* the values `3, 5, 8`\n",
    "* the values `1, 2, 5, 13`"
   ]
  },
  {
   "cell_type": "code",
   "execution_count": null,
   "metadata": {},
   "outputs": [],
   "source": [
    "my_list = [1, 1, 2, 3, 5, 8, 13, 21, 34]\n",
    "\n",
    "# Your code here\n",
    "print(\"The last element in the list is:\", ...)\n",
    "print(\"The sublist is:\", ...)\n",
    "print(\"The sublist is:\", ...)"
   ]
  },
  {
   "cell_type": "markdown",
   "metadata": {},
   "source": [
    "But, there's more that we can do with the slicing! We can now update values using the `=` sign! We can do this for both individual elements and for sublists!\n",
    "\n",
    "Let's take this example: `[1, 2, 4, 9, 16, 32, 64, 129, 257]`\n",
    "\n",
    "Any idea what this sequence is? There are three mistakes that we need to correct!\n",
    "\n",
    "So... Where are the mistakes? How do we correct them?"
   ]
  },
  {
   "cell_type": "code",
   "execution_count": null,
   "metadata": {},
   "outputs": [],
   "source": [
    "# Here is our error-filled list:\n",
    "powers_of_two = [1, 2, 4, 9, 16, 32, 64, 129, 257]\n",
    "\n",
    "# Your code here to correct\n",
    "\n",
    "\n",
    "print(\"The corrected list is:\", powers_of_two)"
   ]
  },
  {
   "cell_type": "markdown",
   "metadata": {},
   "source": [
    "#### Adding Elements\n",
    "\n",
    "Now for the fun part! Let's insert new items! Remember that the list is **mutable**, so when we add new items, we are actually *changing* the list. We are **not** creating a new list. To change the list, we use **methods** from the list object.\n",
    "\n",
    "Let's start with adding a new item at the **end** of the list. This process is known as *appending* to a list. So, naturally, the method to do this is called `append`:"
   ]
  },
  {
   "cell_type": "code",
   "execution_count": null,
   "metadata": {},
   "outputs": [],
   "source": [
    "# Example using our powers of two\n",
    "# Your code here to continue the list\n",
    "\n",
    "print(\"Powers of two is now:\", powers_of_two)"
   ]
  },
  {
   "cell_type": "markdown",
   "metadata": {},
   "source": [
    "We can also insert at any index `i` using the method called... `insert`! This method takes **two** arguments: the index `i` *before which* we want to insert the new element and the new element that we want to insert. \n",
    "\n",
    "***NOTE:*** You must respect this order of arguments.\n",
    "\n",
    "Here's an example:"
   ]
  },
  {
   "cell_type": "code",
   "execution_count": null,
   "metadata": {},
   "outputs": [],
   "source": [
    "days_of_the_week = [\"Sunday\", \"Tuesday\", \"Wednesday\", \"Thursday\", \"Saturday\"]\n",
    "\n",
    "# Your code here to add Monday in the correct spot\n",
    "\n",
    "\n",
    "# Your code here to add Friday in the right spot (hint: negative indexing)\n",
    "\n",
    "\n",
    "\n",
    "print(f\"The {len(days_of_the_week)} days of the week are: {days_of_the_week}\")"
   ]
  },
  {
   "cell_type": "markdown",
   "metadata": {},
   "source": [
    "How can we learn more about these methods? We can check out the [documentation](https://docs.python.org/3/library/stdtypes.html#list). We can also see other methods, like `index`, which we can use to find the position of an element."
   ]
  },
  {
   "cell_type": "markdown",
   "metadata": {},
   "source": [
    "#### Removing Elements\n",
    "\n",
    "Sometimes, we want to delete elements from a list. There are a few ways to do this:\n",
    "- using the `del` keyword\n",
    "- using an assignment\n",
    "- using the `pop` method\n",
    "- using the `clear` method\n",
    "\n",
    "Here are the details:\n",
    "* The `del` keyword can be used to get rid of single elements or a range. `del` is **not** a function, so we **don't** use brackets. \n",
    "* To remove a range, we can alternatively just use slicing and assign an empty list to the desired range (see [here](https://docs.python.org/3/library/stdtypes.html#mutable-sequence-types)).\n",
    "* We can use the `pop` method without an argument to remove the last item from a list, or with an index as argument to remove the item at index `i`. The `pop` method returns the removed element, so it can be stored in a variable.\n",
    "* We can use the `clear` method to remove **all** items from a list."
   ]
  },
  {
   "cell_type": "code",
   "execution_count": null,
   "metadata": {},
   "outputs": [],
   "source": [
    "test_list = [2, 3, 5, 7, 9, 11, 13, 17, 19, 23]\n",
    "\n",
    "# Your code here\n",
    "\n",
    "# Get index of 9\n",
    "\n",
    "\n",
    "# Remove the number which doesn't belong using `del`...\n",
    "\n",
    "\n",
    "print(\"Test list is now:\", test_list)"
   ]
  },
  {
   "cell_type": "code",
   "execution_count": null,
   "metadata": {},
   "outputs": [],
   "source": [
    "test_list = [2, 3, 5, 7, 9, 11, 13, 17, 19, 23]\n",
    "\n",
    "# Your code here to remove the number that doesn't belong using `pop`...\n",
    "\n",
    "\n",
    "print(\"Test list is now:\", test_list, \"since we removed item:\", removed_element)"
   ]
  },
  {
   "cell_type": "code",
   "execution_count": null,
   "metadata": {},
   "outputs": [],
   "source": [
    "test_list_2 = [1, 2, 2, 1, 2, 3, 1, 2, 2, 1, 1, 2, 2]\n",
    "\n",
    "# Your code here to remove the numbers that disrupt the pattern using `del`.\n",
    "\n",
    "\n",
    "print(\"Test list 2 is now:\", test_list_2)"
   ]
  },
  {
   "cell_type": "code",
   "execution_count": null,
   "metadata": {},
   "outputs": [],
   "source": [
    "test_list_2 = [1, 2, 2, 1, 2, 3, 1, 2, 2, 1, 1, 2, 2]\n",
    "\n",
    "# Your code here to remove the numbers that disrupt the pattern using assignment.\n",
    "\n",
    "\n",
    "print(\"Test list 2 is now:\", test_list_2)"
   ]
  },
  {
   "cell_type": "code",
   "execution_count": null,
   "metadata": {},
   "outputs": [],
   "source": [
    "# Your code here to remove all elements using `clear`\n",
    "\n",
    "\n",
    "print(\"The test list 2 is now:\", test_list_2)"
   ]
  },
  {
   "cell_type": "markdown",
   "metadata": {},
   "source": [
    "#### List Concatenation\n",
    "\n",
    "One last operation: lists can be concatenated using the `+` operator. Remember that **both** the left and the right must be lists! You can't add a number to a list by concatenation! You must first embed it in a list."
   ]
  },
  {
   "cell_type": "code",
   "execution_count": null,
   "metadata": {},
   "outputs": [],
   "source": [
    "# Your code here to define list_a and list_b and concatenate the two lists\n",
    "\n",
    "\n",
    "print(\"The joined list is:\", joined_list)"
   ]
  },
  {
   "cell_type": "code",
   "execution_count": null,
   "metadata": {},
   "outputs": [],
   "source": [
    "# Your code here to add 3 to the end of list_a to create list_c\n",
    "\n",
    "\n",
    "print(\"New list c is:\", list_c)"
   ]
  },
  {
   "cell_type": "markdown",
   "metadata": {},
   "source": [
    "#### List Iteration\n",
    "\n",
    "Remember how we went through each character in a string? Well, we can do the exact same thing with a list!\n",
    "\n",
    "```python\n",
    "    for item in my_list:\n",
    "        do_something...\n",
    "```\n",
    "\n",
    "Here's an example:"
   ]
  },
  {
   "cell_type": "code",
   "execution_count": null,
   "metadata": {},
   "outputs": [],
   "source": [
    "my_list = [2, 4, 6, 5, 8, 7, 1, 3, 5, 7, 8, 9, 10, 22, 11, 95]\n",
    "\n",
    "# Your code here to extract the even and odd numbers from the sequence\n",
    "\n",
    "print(f\"Our list has {len(even_numbers)} even numbers and {len(odd_numbers)} odd numbers.\")"
   ]
  },
  {
   "cell_type": "markdown",
   "metadata": {},
   "source": [
    "Now, let's say we want to get the index of the element... Well, we can use the `enumerate` function. This returns a tuple containing the index and the item from the list.\n",
    "\n",
    "**Note:** In the `for` loop, we can **immediately unpack** the tuple!"
   ]
  },
  {
   "cell_type": "code",
   "execution_count": null,
   "metadata": {},
   "outputs": [],
   "source": [
    "my_list = [2, 4, 6, 5, 8, 7, 1, 3, 5, 7, 8, 9, 10, 22, 11, 95]\n",
    "\n",
    "number_of_even = 0\n",
    "number_of_odd = 0\n",
    "\n",
    "last_even_index = -1\n",
    "last_odd_index = -1\n",
    "\n",
    "# Your code here to extract the number of odd and even and get the final indices of each\n",
    "\n",
    "\n",
    "print(\"Our list has\", number_of_even, \"even numbers and\", number_of_odd, \"odd numbers.\")\n",
    "print(\"The last even number was at index\", last_even_index, \"and the last odd number was at index\", last_odd_index)\n"
   ]
  },
  {
   "cell_type": "markdown",
   "metadata": {},
   "source": [
    "#### List Exercise\n",
    "\n",
    "Now, time to practice lists! Let's take a string of RNA and turn it into a list of codons. At the end, print the number of codons."
   ]
  },
  {
   "cell_type": "code",
   "execution_count": null,
   "metadata": {},
   "outputs": [],
   "source": [
    "my_rna = \"AGCAGCAUGACCGAGUCAGUCAGCUUGCGGCUACGUACUGGCCAUUAGCAGUACAGU\"\n",
    "\n",
    "# Your code here"
   ]
  },
  {
   "cell_type": "code",
   "execution_count": null,
   "metadata": {},
   "outputs": [],
   "source": [
    "my_rna = \"AGCAGCAUGACCGAGUCAGUCAGCUUGCGGCUACGUACUGGCCAUUAGCAGUACAGU\"\n",
    "\n",
    "# Your code here\n",
    "\n",
    "# Here are a few hints ...\n",
    "\n",
    "# 1. Create an empty codon list\n",
    "\n",
    "\n",
    "# 2. Find the start codon\n",
    "\n",
    "\n",
    "# 3. Iterate over the string\n",
    "for i in range(..., ..., ...):\n",
    "    # 4. Get the codon...\n",
    "    \n",
    "\n",
    "    # 5. Add codon to list\n",
    "    \n",
    "    \n",
    "\n",
    "print(\"We found\", len(my_codons), \"codons\")\n",
    "print(my_codons)"
   ]
  },
  {
   "cell_type": "markdown",
   "metadata": {},
   "source": [
    "### Dictionaries\n",
    "\n",
    "So... How many of you can remember using a paper dictionary? What's the idea behind them?\n",
    "\n",
    "#### Key-Value Storage\n",
    "\n",
    "Well, we're not going to be defining words... but think about the **structure** of a dictionary. You look up a word and you get an associated piece of information, a definition. Let's call the word a **key** and the associated information a **value**. A **dictionary** is a collection that stores **Key-Value** pairs.\n",
    "\n",
    "Now, for the syntax... Well, tuples involved round brackets, and lists involved square brackets... so it's only natural that the syntax for dictionaries uses curly brackets, or brace brackets `{}`. But, there's another twist here. \n",
    "\n",
    "We need both keys and values! The **values** can be any type, but the **keys** must be **immutable**. So, the keys can be numbers, tuples or strings (or booleans, I guess, but that may not be useful), but they **cannot** be lists. In addition, keys **cannot** be duplicated, but values can. If you try to duplicate a key, only one of the values is kept."
   ]
  },
  {
   "cell_type": "code",
   "execution_count": null,
   "metadata": {},
   "outputs": [],
   "source": [
    "# Your code here: dictionary example for image_counts\n",
    "\n"
   ]
  },
  {
   "cell_type": "markdown",
   "metadata": {},
   "source": [
    "Note: the keys and the values don't have to be in order.\n",
    "\n",
    "Now, there are lots of operations that we can do on dictionaries!"
   ]
  },
  {
   "cell_type": "markdown",
   "metadata": {},
   "source": [
    "#### Accessing and Modifying Dictionary Entries\n",
    "\n",
    "Recall that in strings, tuples and lists we used the square brackets `[]` for indexing. We're still going to use them here, but instead of using a *numeric* index, we put a key in the brackets instead. We can then perform our usual operations of retrieving and replacing values."
   ]
  },
  {
   "cell_type": "code",
   "execution_count": null,
   "metadata": {},
   "outputs": [],
   "source": [
    "# Your code here to access the number of microCT scans and store it in micro_ct_scans\n",
    "\n",
    "\n",
    "print(f\"We have {micro_ct_scans} microCT scans in our database!\")\n",
    "\n",
    "# Your code here to modify the number of confocal images\n",
    "\n",
    "\n",
    "print(\"Imaging database now has the following datasets:\", image_counts)\n"
   ]
  },
  {
   "cell_type": "markdown",
   "metadata": {},
   "source": [
    "#### Adding Keys\n",
    "\n",
    "Adding new elements to a dictionary is easy! We just need the new key and the new value, and then we write:\n",
    "```python\n",
    "    my_dictionary[new_key] = new_value\n",
    "```\n",
    "\n",
    "For example:"
   ]
  },
  {
   "cell_type": "code",
   "execution_count": null,
   "metadata": {},
   "outputs": [],
   "source": [
    "# Your code here to add TEM to our imaging database\n",
    "\n",
    "\n",
    "print(f\"Our imaging database now has the following datasets available: {image_counts}\")"
   ]
  },
  {
   "cell_type": "markdown",
   "metadata": {},
   "source": [
    "#### Removing Entries\n",
    "\n",
    "To remove an entry, we can again use the `del` keyword, or we can use `pop`. Like with lists, `pop` gives us the value that we removed in a variable."
   ]
  },
  {
   "cell_type": "code",
   "execution_count": null,
   "metadata": {},
   "outputs": [],
   "source": [
    "# Your code here to remove the STORM datasets and store them in a variable storm_datasets\n",
    "\n",
    "\n",
    "print(\"The number of STORM datasets was:\", storm_datasets)\n",
    "\n",
    "print(\"Our dictionary is now:\", image_counts)"
   ]
  },
  {
   "cell_type": "markdown",
   "metadata": {},
   "source": [
    "#### Other Operations\n",
    "\n",
    "Much of the expected behaviour of dictionaries is similar to lists. There are a few methods that are exclusively used by dictionaries:\n",
    "* The `keys` method returns the keys in the dictionary.\n",
    "* The `values` method returns the values in the dictionary.\n",
    "* The `items` method returns tuples containing `(key, value)` pairs.\n",
    "* The `update` method can be used for combining dictionaries (Concatenation doesn't work!). **This method updates the current dictionary and does not produce a new one!**"
   ]
  },
  {
   "cell_type": "code",
   "execution_count": null,
   "metadata": {},
   "outputs": [],
   "source": [
    "# Your code here\n",
    "my_keys = ...\n",
    "my_values = ...\n",
    "my_items = ...\n",
    "\n",
    "print(\"The keys are:\", my_keys)\n",
    "print(\"The values are:\", my_values)\n",
    "print(\"The items are:\", my_items)"
   ]
  },
  {
   "cell_type": "code",
   "execution_count": null,
   "metadata": {},
   "outputs": [],
   "source": [
    "new_datasets = {\n",
    "    \"synchrotron\": 3,\n",
    "    \"STEM\": 4,\n",
    "}\n",
    "\n",
    "# Your code here to update the dictionary\n",
    "\n",
    "\n",
    "print(\"Imaging catalogue now has data:\", image_counts)"
   ]
  },
  {
   "cell_type": "markdown",
   "metadata": {},
   "source": [
    "#### Dictionary Iteration\n",
    "\n",
    "To do things with all data stored in the dictionary, we don't usually iterate over indices. Instead, we can iterate over the keys, or the values, or the `items` which contain both. To iterate over the keys, we can just do the following:\n",
    "\n",
    "```python\n",
    "    for k in my_dictionary:\n",
    "        do_something\n",
    "```\n",
    "\n",
    "As an example, let's find the average of our imaging catalogue counts from above:"
   ]
  },
  {
   "cell_type": "code",
   "execution_count": null,
   "metadata": {},
   "outputs": [],
   "source": [
    "image_counts = {\n",
    "    \"microCT\": 12,\n",
    "    \"FIB-SEM\": 5,\n",
    "    \"confocal\": 36,\n",
    "    \"STORM\": 6,\n",
    "    \"cryoTEM\": 2\n",
    "}\n",
    "\n",
    "# Your code here to compute the average number of datasets for the modalities and store it in average_count\n",
    "\n",
    "\n",
    "print(\"The average number of image datasets is\", average_count)"
   ]
  },
  {
   "cell_type": "markdown",
   "metadata": {},
   "source": [
    "## Exercise: Strings and Collections for DNA and Protein Processing: Translation\n",
    "\n",
    "So... We made a list of codons before. Now, let's take it a step farther. In this exercise, we will write code to translate the mRNA to proteins. I'll provide you with a codon table... but backwards! You need to start by creating the table that goes from codon to amino acid. Codon table from here: https://en.wikipedia.org/wiki/DNA_and_RNA_codon_tables.\n",
    "\n",
    "**Recall:** Your list of codons from the DNA sequence earlier should still be in the variable `my_codons`."
   ]
  },
  {
   "cell_type": "code",
   "execution_count": null,
   "metadata": {},
   "outputs": [],
   "source": [
    "amino_acid_to_codon_table = {\n",
    "    \"F\": [\"UUU\", \"UUC\"],\n",
    "    \"L\": [\"UUA\", \"UUG\", \"CUU\", \"CUC\", \"CUA\", \"CUG\"],\n",
    "    \"I\": [\"AUU\", \"AUC\", \"AUA\"],\n",
    "    \"M\": [\"AUG\"],\n",
    "    \"V\": [\"GUU\", \"GUC\", \"GUA\", \"GUG\"],\n",
    "    \"S\": [\"UCU\", \"UCC\", \"UCA\", \"UCG\", \"AGU\", \"AGC\"],\n",
    "    \"P\": [\"CCU\", \"CCC\", \"CCA\", \"CCG\"],\n",
    "    \"T\": [\"ACU\", \"ACC\", \"ACA\", \"ACG\"],\n",
    "    \"A\": [\"GCU\", \"GCC\", \"GCA\", \"GCG\"],\n",
    "    \"Y\": [\"UAU\", \"UAC\"],\n",
    "    \"STOP\": [\"UAA\", \"UAG\", \"UGA\"],\n",
    "    \"H\": [\"CAU\", \"CAC\"],\n",
    "    \"Q\": [\"CAA\", \"CAG\"],\n",
    "    \"N\": [\"AAU\", \"AAC\"],\n",
    "    \"K\": [\"AAA\", \"AAG\"],\n",
    "    \"D\": [\"GAU\", \"GAC\"],\n",
    "    \"E\": [\"GAA\", \"GAG\"],\n",
    "    \"C\": [\"UGU\", \"UGC\"],\n",
    "    \"W\": [\"UGG\"],\n",
    "    \"R\": [\"CGU\", \"CGC\", \"CGA\", \"CGG\", \"AGA\", \"AGG\"],\n",
    "    \"G\": [\"GGU\", \"GGC\", \"GGA\", \"GGG\"]\n",
    "}\n",
    "\n",
    "# Perform the translation on the provided codon list:\n",
    "my_codons = ['AUG', 'ACC', 'GAG', 'UCA', 'GUC', 'AGC', 'UUG', 'CGG',\n",
    "             'CUA', 'CGU', 'ACU', 'GGC', 'CAU', 'UAG', 'CAG', 'UAC', 'AGU']\n",
    "\n",
    "# Your code here\n"
   ]
  },
  {
   "cell_type": "markdown",
   "metadata": {},
   "source": [
    "## Module Summary\n",
    "\n",
    "Yay! We've made it through another module! Here, we've explored the basics of strings and collection types. Here are the main points that we saw:\n",
    "\n",
    "* A **string** represents *text* in Python. We can use **slicing** to access its elements. We can also perform operations, like **concatenation and string formatting**, and use **methods** to get extra info about a string or create modified versions of it.\n",
    "* A **tuple** represents a *small number of objects grouped together*. To access elements, we can either use slicing, or we can **unpack** its contents into the corresponding number of variables. Tuples can't be modified.\n",
    "* A **list** represents a *variable-length collection* of objects. We can add or remove objects from the list using **list methods**, such as `append`, `insert` and `pop`. We can also iterate over all elements of a list using a `for` loop.\n",
    "* A **dictionary** represents *key-value storage*. Instead of having a numeric index, we access **values** using a **key**. We can add or remove elements using keys and we can modify the dictionary using **dictionary methods**, such as `pop` and `update`. We can also use the `keys`, `values` and `items` methods to get different pieces of information.\n",
    "* All of these are **objects**, which means that they store information and have functions, or **methods** associated with them.\n",
    "* We can iterate over all these types of objects to process individual elements.\n",
    "\n",
    "For more information about any of these objects, check out the official Python documentation. There's a lot of detail about each type:\n",
    "* Strings: https://docs.python.org/3/library/stdtypes.html#text-sequence-type-str\n",
    "* Tuples: https://docs.python.org/3/library/stdtypes.html#tuple\n",
    "* Lists: https://docs.python.org/3/library/stdtypes.html#list\n",
    "* Dictionaries: https://docs.python.org/3/library/stdtypes.html#mapping-types-dict\n",
    "\n",
    "Finally, there's another collection type that I didn't discuss, called a *set*. If you want to learn about it, check out this page: https://docs.python.org/3/library/stdtypes.html#set-types-set-frozenset."
   ]
  },
  {
   "cell_type": "markdown",
   "metadata": {},
   "source": [
    "# Module 4 - Modules and Packages\n",
    "\n",
    "We've been seen the basics of how to store data, make decisions and run code over and over again. In practice, more complicated code will be wrapped up in **functions** that other people have written. The good news is that in Python it's **very easy** to use code from other people. In this module, we'll talk about how Python code is arranged and how you can **import** code and use it as if you had written it yourself. Here's the outline for this module:\n",
    "\n",
    "1.\tUsing Modules\n",
    "    1.\tWhat is a Module?\n",
    "    2.\tImporting a Module\n",
    "    3.\tImporting Specific Functions\n",
    "2.\tPackage Management\n",
    "    1.\tWhat is a Package?\n",
    "    2.\tInstalling Packages using conda \n",
    "    3.\tInstalling Packages using pip\n",
    "    4.\tOther Installation Tips\n",
    "    5.\tUsing Packages and Reading Documentation\n",
    "3.\tExercise: importing a module from the standard library and using its functions."
   ]
  },
  {
   "cell_type": "markdown",
   "metadata": {},
   "source": [
    "## Using Modules\n",
    "\n",
    "Python code is organised in *modules*. But wait???? What's a module? I'm glad you asked..."
   ]
  },
  {
   "cell_type": "markdown",
   "metadata": {},
   "source": [
    "\n",
    "### What is a Module?\n",
    "\n",
    "Simple answer: a **module** is a file. That's it. Any time you create a new Python file and assign it a name that ends with `.py`, you've created a module. If you share this file with someone else, they can use your code in their own files without having to copy-paste it. We'll see the details in a bit.\n",
    "\n",
    "So, what does this module look like? Usually, it contains a bunch of different code:\n",
    "* **Functions**: bits of repeatable behaviour to simplify tasks.\n",
    "* **Classes**: code that defines new types of objects.\n",
    "* **Constants**: variables that have important pre-determined values, like $\\pi$.\n",
    "\n",
    "All of these are also typically accompanied by **documentation**, which explains how they work, what you can do with them, and how you can use them. This documentation is just a series of triple-quoted strings in the module file.\n",
    "\n",
    "This will become clearer in a bit. First, it's important to know that Python comes with **a lot** of built-in modules. You can see a list [here](https://docs.python.org/3/py-modindex.html).\n",
    "\n",
    "We *can* also run Python code to see what modules we have available. **BUT!!! This code may take some time to run, especially if you installed Python using Anaconda! So, think twice before running this line!**"
   ]
  },
  {
   "cell_type": "code",
   "execution_count": null,
   "metadata": {},
   "outputs": [],
   "source": [
    "# help(\"modules\")"
   ]
  },
  {
   "cell_type": "markdown",
   "metadata": {},
   "source": [
    "This list doesn't only include built-in modules, but also those that you've installed from other packages. We'll talk about this later."
   ]
  },
  {
   "cell_type": "markdown",
   "metadata": {},
   "source": [
    "### Importing a Module\n",
    "\n",
    "To use code from a module, we have to **import** it. Importing the module tells Python that we want to access its contents and use them in our code.\n",
    "\n",
    "To import a module so that we can use it in our code, here's the syntax:\n",
    "```python\n",
    "    import module_name\n",
    "```\n",
    "\n",
    "Let's do an example. Let's say you're working with a long sequence of DNA that's hundres of base pairs long and you want to break it up over several lines. Well, Python has a [`textwrap` module](https://docs.python.org/3/library/textwrap.html#module-textwrap) that can help! First, let's import the module"
   ]
  },
  {
   "cell_type": "code",
   "execution_count": null,
   "metadata": {},
   "outputs": [],
   "source": [
    "# Your code here to import the textwrap module\n",
    "\n"
   ]
  },
  {
   "cell_type": "markdown",
   "metadata": {},
   "source": [
    "Great! We've imported the module! That's our first step done. The next step is to **read how to use the module**. We have two ways to do this:\n",
    "1. Go to the website to read the documentation.\n",
    "2. Use the `help` function in Python.\n",
    "\n",
    "If we use the `help` function, we can read the help right from Python without having to search the internet! The downside is that the `help` function is entirely text-based, so there are no pictures and it's harder to navigate. **Usually, I look at the online help.**"
   ]
  },
  {
   "cell_type": "code",
   "execution_count": null,
   "metadata": {},
   "outputs": [],
   "source": [
    "# Your code here to get help on textwrap\n"
   ]
  },
  {
   "cell_type": "markdown",
   "metadata": {},
   "source": [
    "So, we've now seen that we can use the `wrap` function in the `textwrap` module to break text up into lines of a given length. To actually use this function ourselves, we use the **dot notation**, like when we were calling methods on strings and lists."
   ]
  },
  {
   "cell_type": "code",
   "execution_count": null,
   "metadata": {},
   "outputs": [],
   "source": [
    "my_long_dna = \"AGGACAGTTGTACGATGCATCGTGCTACGATCGATGCTAGCGACGTACGTAGCATGCTAGCTAGCTGACGAGCGCGCGCGATCAGCATGCGCCGGACGTCAGTCAGTGTCAGTCATGCAGTACTGCAGTGTACGTCAGTACGTACTGCAGTCGTCATGTCGATGCATGCCATGTGACGTATGACTGCATGACGTACTG\"\n",
    "\n",
    "# Your code here for an example of using `textwrap.wrap`\n"
   ]
  },
  {
   "cell_type": "markdown",
   "metadata": {},
   "source": [
    "The two important lines to remember in this example are:\n",
    "* `import textwrap` --> we imported the `textwrap` module\n",
    "* `wrapped_lines = textwrap.wrap(my_long_dna, 80)` --> we use the `wrap` function from the `textwrap` module\n",
    "\n",
    "Note that we have to write `module_name.function_name`. This is because we are importing the ***whole module***."
   ]
  },
  {
   "cell_type": "markdown",
   "metadata": {},
   "source": [
    "Let's do another example. Let's look at some math! Good news, Python has a `math` module. Let's import it and compute some sines and cosines of 180°. First, let's look at the [documentation](https://docs.python.org/3/library/math.html#module-math) and then write some code:"
   ]
  },
  {
   "cell_type": "code",
   "execution_count": null,
   "metadata": {},
   "outputs": [],
   "source": [
    "# Your code here... Compute sines and cosines of 180° using `math`\n"
   ]
  },
  {
   "cell_type": "markdown",
   "metadata": {},
   "source": [
    "Wait! Hang on! That's not right! We remember from high school math that $sin(180^\\circ)=0$ and $cos(180^\\circ)=-1$. What's going on??? Well, the answer is in the documentation. We can call the `help` function on specific functions!"
   ]
  },
  {
   "cell_type": "code",
   "execution_count": null,
   "metadata": {},
   "outputs": [],
   "source": [
    "# Your code here to get help on the cosine function\n"
   ]
  },
  {
   "cell_type": "markdown",
   "metadata": {},
   "source": [
    "Aha! The angle has to be in radians! So, we need to convert the angle to radians first! We can either do this manually by doing $\\textup{radians} = \\pi/180 \\times \\textup{degrees}$ or we can use another function from math! Let's see both:"
   ]
  },
  {
   "cell_type": "code",
   "execution_count": null,
   "metadata": {},
   "outputs": [],
   "source": [
    "# Your code here for solution 1 (using pi)\n"
   ]
  },
  {
   "cell_type": "code",
   "execution_count": null,
   "metadata": {},
   "outputs": [],
   "source": [
    "# Your code here for solution 2 (using `radians` function)\n"
   ]
  },
  {
   "cell_type": "markdown",
   "metadata": {},
   "source": [
    "In the first solution, we see an example of using a **constant** (well, actually a variable) from a module.\n",
    "\n",
    "*Note:* You may be thinking... Hang on! The value of `sin(180°)` didn't come out to zero. Well, it's something very small due to problems representing decimal numbers on a computer. So, for our intents and purposes, we can say $1\\times 10^{-16} \\approx 0$."
   ]
  },
  {
   "cell_type": "markdown",
   "metadata": {},
   "source": [
    "You may be thinking in that last example that we've had to write `math` a lot! We had to write `math.sin` and `math.cos` and `math.pi` and `math.radians`. Can't there be an easier way??? Turns out, there is!"
   ]
  },
  {
   "cell_type": "markdown",
   "metadata": {},
   "source": [
    "### Importing Specific Functions\n",
    "\n",
    "Sometimes, we don't want to import an entire module. We may want to just import a specific function. For this, the syntax is:\n",
    "```python\n",
    "    from module_name import function_name\n",
    "```\n",
    "\n",
    "Then, when we call the function, we **don't** need to write the module name. We only need to write the function name. We ca also import **constants** in this way.\n",
    "\n",
    "We aren't restricted to importing only one function or constant. We can import a bunch:\n",
    "```python\n",
    "    from module_name import function1, function2, constant\n",
    "```\n",
    "\n",
    "Let's apply this example to our previous sine and cosine example:"
   ]
  },
  {
   "cell_type": "code",
   "execution_count": null,
   "metadata": {},
   "outputs": [],
   "source": [
    "# Your code here to import the specific functions for our sine and cosine example\n"
   ]
  },
  {
   "cell_type": "markdown",
   "metadata": {},
   "source": [
    "Notice that we were able to call the `sin` and `cos` functions directly and use `pi` as if it were a variable that we had defined."
   ]
  },
  {
   "cell_type": "markdown",
   "metadata": {},
   "source": [
    "So, you may be wondering what's the best approach to use. Well, it's really a **case-by-case** decision:\n",
    "* Does the module have a long name? If so, you may want to just import the functions you'll use.\n",
    "* Will you forget where the function came from? If so, leave it as a module import so that you remember where the function came from and you don't try to find where you've defined it.\n",
    "* How much of the module are you using? If you have to import 20 different functions specificially, don't waste the room with the import statement."
   ]
  },
  {
   "cell_type": "markdown",
   "metadata": {},
   "source": [
    "## Package Management\n",
    "\n",
    "All this has been good, but we've only been looking at code that comes with Python. A lot of stuff comes with Python, but not everything. Now, we'll see how to go beyond what Python gives us and explore the big world of **packages**."
   ]
  },
  {
   "cell_type": "markdown",
   "metadata": {
    "jp-MarkdownHeadingCollapsed": true
   },
   "source": [
    "### What is a Package?\n",
    "\n",
    "A **package** is a collection of modules that interact and have been grouped together to be easily distributed to other people. Packages usually have a very specific focus. Here are some very common ones that you will almost definitely encounter in your career:\n",
    "\n",
    "* **NumPy**: Offers mathematical tools for processing large numeric arrays in many dimensions.\n",
    "* **SciPy**: Offers scientific tools for signal processing, interpolation, high-dimensional image processing and much, much more.\n",
    "* **Pandas**: Offers data processing tools for working with tables.\n",
    "* **Matplotlib**: Offers tools for generating many different types of plots in 2D and 3D.\n",
    "* **scikit-image**: Offers tools for image processing.\n",
    "* **scikit-learn**: Offers statistics and machine learning tools.\n",
    "* **TensorFlow** and **PyTorch**: Offer deep learning and AI tools.\n",
    "\n",
    "These packages can be quite big! If you installed Anaconda, then great! You have most of them installed automatically. If you didn't install Anaconda, no problem! It's really easy to install packages. There are two main tools that you'll use:\n",
    "* `conda` -- available if you've installed Anaconda or miniconda\n",
    "* `pip` -- generally available, even if not using Anaconda\n",
    "\n",
    "Let's see how to use each of them!"
   ]
  },
  {
   "cell_type": "markdown",
   "metadata": {},
   "source": [
    "### Installing Packages using `conda`\n",
    "\n",
    "The packages available to install in `conda` come from the **Anaconda** repository: https://anaconda.org/. We can search online to find a package that we want to install. For example, if you want to install matplotlib, you can search for **matplotlib** on the Anaconda repository. Then, you have **two ways** to install it:\n",
    "\n",
    "1. On the command line\n",
    "2. In a graphical user interface\n",
    "\n",
    "#### Installing Packages on the Command Line\n",
    "\n",
    "To install using the **command line**, open up the **Terminal** on macOS or Linux, or the **Anaconda Prompt** on Windows. It's very important to **not** use a Python shell for this. Again, we do this in a terminal, **NOT IN A PYTHON SHELL**.\n",
    "\n",
    "In general, to install a package with `conda`, at the **command prompt** you would write:\n",
    "```bash\n",
    "$ conda install package_name\n",
    "```\n",
    "\n",
    "Press enter, wait for it to prompt you, type `y` and hit enter again to install! If you don't want to be prompted, then you can just add `-y` to the command so that it automatically answers \"yes\" to the prompt for installation.\n",
    "\n",
    "Sometimes, the package that you want isn't available in the main channel, so you may have to specify an additional option (see [here](https://docs.conda.io/projects/conda/en/latest/commands/install.html) for more details). For example, packages may come from a channel called `conda-forge`, so you would have to specify:\n",
    "```bash\n",
    "$ conda install -c conda-forge package_name\n",
    "```\n",
    "\n",
    "You can also add additional channels, such as [**bioconda**](https://bioconda.github.io/).\n",
    "\n",
    "#### Installing Packages Graphically\n",
    "\n",
    "To install packages in the graphical user interface, you need to open **Anaconda Navigator** and select the **Environments** tab.\n",
    "\n",
    "![Anaconda Navigator showing the environments](../assets/anaconda_navigator.png)\n",
    "\n",
    "Anaconda Navigator comes pre-installed when you install Anaconda. On Windows and macOS, it's easy to find. On Linux, you may have to open the command line and run:\n",
    "\n",
    "```bash\n",
    "$ anaconda-navigator\n",
    "```\n",
    "\n",
    "Once you have the **Environments** tab open, you can search for a package and install it.\n",
    "\n",
    "#### Using Environments\n",
    "Anaconda lets you set up **Environments** that let you keep different versions of packages. Sometimes, updates change package features or break compatibility with other packages. For scientific work, you may want to have very specific versions of packages. Good news! Anaconda lets you export a list of all of these package versions to a file. Other users can then easily recreate your setup. The process is discussed briefly in the `conda` documentation [here](https://conda.io/projects/conda/en/latest/user-guide/tasks/manage-environments.html).\n",
    "\n",
    "At the command prompt (with you `conda` environment active), type the following (after the dollar sign):\n",
    "\n",
    "```bash\n",
    "    $ conda env export -f requirements.txt\n",
    "```\n",
    "\n",
    "To create a new `conda` environment called `new_env` based on the file, type this:\n",
    "```bash\n",
    "    $ conda env create --file requirements.txt --name new_env\n",
    "```\n",
    "\n",
    "To activate this new environment, you would type:\n",
    "```bash\n",
    "    $ conda activate new_env\n",
    "```\n",
    "\n",
    "Environments help you keep multiple versions of packages, and even Python itself, separate."
   ]
  },
  {
   "cell_type": "markdown",
   "metadata": {},
   "source": [
    "### Installing Packages using `pip`\n",
    "\n",
    "What if you don't have Anaconda or Miniconda? Don't worry! Every installation of Python comes with `pip`, official tool for installing packages. `pip` lets you download packages from the official Python Packaging Index (PyPI), found at https://pypi.org/.\n",
    "\n",
    "To install a package, first you can search for it on PyPI. For example, if we want to install Open3D, which is a package for working with 3D point clouds and models, we can search on PyPI. When you click on the result, it even gives you the code to be able to install the package!\n",
    "\n",
    "\n",
    "To install packages using `pip`, again you must open the command line. At the prompt, you write:\n",
    "```bash\n",
    "    $ pip install package_name\n",
    "```\n",
    "\n",
    "When it's done installing, you can use the package!\n",
    "\n",
    "**Note:** `pip` should come with just about any installation of Python. If you didn't install Anaconda, things may get a bit messy. There are two major versions of Python in use: 2.7 and 3.*. On some operating systems, typing in `python` or `pip` on the command line use Python 2, while you must use `python3` or `pip3` to use the more updated and supported version of Python. When you install Anaconda, you no longer need to deal with this issue.\n",
    "\n",
    "#### Requirements and Environments\n",
    "\n",
    "Similar to how we exported a `conda` environment, we can export a list of package versions with `pip`. The package information is stored in a **requirements** file, commonly called `requirements.txt`. To create this file, at the command line, you use `pip freeze`:\n",
    "\n",
    "```bash\n",
    "    $ pip freeze > requirements.txt\n",
    "```\n",
    "\n",
    "Then, on another computer, if you want to install all these packages, you just write:\n",
    "```bash\n",
    "    $ pip install -r requirements.txt\n",
    "```\n",
    "\n",
    "You can also create multiple environments using `pip` and `virtualenv`. If you have both `conda` and `pip` installed, the `conda` [documentation](https://conda.io/projects/conda/en/latest/user-guide/tasks/manage-environments.html) recommends trying to install packages with `conda` first. Creating these virtual environments is outside the scope of this workshop, but there's plenty of online documentation that can help."
   ]
  },
  {
   "cell_type": "markdown",
   "metadata": {},
   "source": [
    "### Other Installation Tips\n",
    "\n",
    "Most packages give you information in the **documentation** about how to install them. In practice, you rarely have to search Anaconda or PyPI. Usually, you just need to search for the package, and it will explain how to set it up.\n",
    "\n",
    "For example, NumPy provides the following [page](https://numpy.org/install/).\n",
    "\n",
    "Matplotlib provides [this page](https://matplotlib.org/stable/users/getting_started/index.html#installation-quick-start). \n",
    "\n",
    "For anyone interested in user interface development, PyQt provides [this page](https://www.riverbankcomputing.com/software/pyqt/download).\n",
    "\n",
    "**Usually**, the installation instructions are simple, telling you to `pip install` the package. There are a few cases, though, where things are more complicated.\n",
    "\n",
    "An example is [CuPy](https://cupy.dev/), which allows performing NumPy and SciPy operations on the GPU. This package **does not** work on all systems. It requires an NVIDIA GPU and CUDA, which is not available on macOS. In these cases, it's very important to read the [installation instructions](https://docs.cupy.dev/en/stable/install.html)."
   ]
  },
  {
   "attachments": {},
   "cell_type": "markdown",
   "metadata": {},
   "source": [
    "### Using Packages and Reading Documentation\n",
    "\n",
    "We've seen what packages are and how to install them, but now how do we use them?\n",
    "\n",
    "To use a package, we have to import it, just like we import a module. Often, since we use a lot of functions from a package, we typically want to give the package a shorter name when we import it. Here's the syntax for doing this:\n",
    "```python\n",
    "    import package_name as short_name\n",
    "```\n",
    "\n",
    "You'll see this commonly for the NumPy package:"
   ]
  },
  {
   "cell_type": "code",
   "execution_count": null,
   "metadata": {},
   "outputs": [],
   "source": [
    "# Your code here to import numpy\n"
   ]
  },
  {
   "cell_type": "markdown",
   "metadata": {},
   "source": [
    "Now that we have done this, we don't write `numpy` before all functions. Instead, we write `np`:"
   ]
  },
  {
   "cell_type": "code",
   "execution_count": null,
   "metadata": {},
   "outputs": [],
   "source": [
    "my_arr = np.arange(8)"
   ]
  },
  {
   "cell_type": "markdown",
   "metadata": {},
   "source": [
    "For more details on [NumPy](https://numpy.org/), check out its [website](https://numpy.org/) and [documentation](https://numpy.org/doc/stable/)."
   ]
  },
  {
   "cell_type": "markdown",
   "metadata": {},
   "source": [
    "Packages can be very big! So, instead of dumping all their code in one module, developers often create additional modules and subpackages. Let's look at [SciPy](https://docs.scipy.org/doc/scipy/reference/index.html#scipy-api) as an example.\n",
    "\n",
    "To import subpackages, we use the **dot notation**. For example, let's import the `interpolate` subpackage from SciPy."
   ]
  },
  {
   "cell_type": "code",
   "execution_count": null,
   "metadata": {},
   "outputs": [],
   "source": [
    "# Your code here to import interpolate from scipy\n"
   ]
  },
  {
   "cell_type": "markdown",
   "metadata": {},
   "source": [
    "We can also rename an imported subpackage. A common example of this is the `matplotlib` plotting package. We commonly use the `pyplot` sub-package. It would be **really, really** long to keep writing `matplotlib.pyplot` everywhere. Instead, when we import it, we commonly see this line:"
   ]
  },
  {
   "cell_type": "code",
   "execution_count": null,
   "metadata": {},
   "outputs": [],
   "source": [
    "# Your code here for importing pyplot from matplotlib as plt\n"
   ]
  },
  {
   "cell_type": "markdown",
   "metadata": {},
   "source": [
    "Here, we've given the subpackage a much shorter name, `plt`."
   ]
  },
  {
   "cell_type": "markdown",
   "metadata": {},
   "source": [
    "So, how do we learn all the awesome things we can do with a package? The answer is **DOCUMENTATION**. Many of these big packages are **extremely well-maintained**. So, they have teams of people who dedicate tons of time to writing documentation to help **you**. All these packages have many different types of information available online:\n",
    "\n",
    "* API references: provide the detailed information, or *docstrings*, about each function, class, method and constant in the package. Example: [NumPy](https://numpy.org/doc/stable/reference/index.html).\n",
    "* User guides: introductory material and tutorials telling you how to accomplish common tasks and how to follow common conventions for the package. Example: [SciPy](https://docs.scipy.org/doc/scipy/tutorial/index.html).\n",
    "* Examples: worked out, sometimes step-by-step, examples of how to use the package, with the code available. Example: [matplotlib](https://matplotlib.org/stable/gallery/index).\n",
    "\n",
    "All of these resources are here for **you**, so make sure that you use them! When in doubt, **consult the documentation!**"
   ]
  },
  {
   "cell_type": "markdown",
   "metadata": {},
   "source": [
    "## Exercise: Working with Modules\n",
    "\n",
    "We've seen how to work with modules and packages. Now, let's do an exercise. We saw that using the `math` module we can perform basic mathematical operations. Well, it turns out there's also a built-in `statistics` module that we can use to perform basic stats. The documentation for this module is found [here](https://docs.python.org/3/library/statistics.html#module-statistics). In this problem, I've given you code that generates a list of DNA sequences. Count the number of `C` nucleuotides in each and compute the mean and sample standard deviation of these values."
   ]
  },
  {
   "cell_type": "code",
   "execution_count": null,
   "metadata": {},
   "outputs": [],
   "source": [
    "import random\n",
    "\n",
    "nucleotides = [\"A\", \"T\", \"C\", \"G\"]\n",
    "\n",
    "# Don't worry about this part :-)\n",
    "random_sequences = [\n",
    "    \"\".join(\n",
    "        random.choices(nucleotides, weights=[\n",
    "            2 * (i ** 2) - 3 * i, 2 * (i ** 2), i**2 - i, i ** 2 - 4 * i\n",
    "        ], k=80)\n",
    "    ) for i in range(1, 101)\n",
    "]\n",
    "\n",
    "print(\"Random sequences are:\")\n",
    "print(\"\\n\".join(random_sequences))\n",
    "\n",
    "# Your code here\n"
   ]
  },
  {
   "cell_type": "markdown",
   "metadata": {},
   "source": [
    "## Module Summary\n",
    "\n",
    "Congratulations! Another module done! Here are the main points we saw in this module on modules:\n",
    "* Python code is organised into **modules** that we can easily **import** into our own code to use.\n",
    "* We can import **an entire module** or we can import **specific functions and constants** to accomplish certain tasks.\n",
    "* Not all modules we need come installed with Python. We can install **packages** using `conda` or `pip` to get even more functionality.\n",
    "* We can easily **import** packages into our code to use their added functionality.\n",
    "* Many of these packages have **lots of documentation** that provides **reference, tutorials and examples** on how to use these packages.\n",
    "\n",
    "Now you can both write your own code and use code from existing modules and packages!"
   ]
  },
  {
   "cell_type": "markdown",
   "metadata": {},
   "source": [
    "# Module 5 - Where to Go From Here\n",
    "\n",
    "We're just about at the end of our workshop! Over the course of these few hours, we've seen the basics of variables and numbers, Booleans and strings, as well as more complicated collection types. We've also seen how to use built-in modules and install packages to gain extra functionality.\n",
    "\n",
    "So... what comes next?\n",
    "\n",
    "## What to Learn Next? How?\n",
    "\n",
    "What great questions? Well, there are still a bunch of topics that I didn't cover today. We talked a bit about **functions**. Well, you can actually **write your own**. Functions are very helpful when you need to repeat certain tasks and you want to have building blocks.\n",
    "\n",
    "You can also write your own **classes** and define **new types of objects**. Through **object-oriented programming**, you can easily represent the world around you in code.\n",
    "\n",
    "How to learn all of these? There are plenty of resources out there. Keep your eyes open for other workshops! And check online for tutorials and videos. I'll talk a bit more about these soon.\n",
    "\n",
    "## How to Get Help and How NOT to Get Help?\n",
    "\n",
    "When writing code, there are a bunch of resources that can help you!\n",
    "\n",
    "### Your Code Editor\n",
    "\n",
    "Yes! That's write! The software you're using to write code can give you lots of help. It can suggest completions and tell when there are errors and even help you reformat your files and restructure your code. So, please, please, please, **DO NOT** write your code in a simple text editor that has not additional features. And ***PLEASE*** don't use a word processing software. Use software that is made for coding!\n",
    "\n",
    "### Documentation\n",
    "\n",
    "I mentioned this one earlier. Big projects have big documentation. Take a look at their guides for getting started. For example, [Pandas](https://pandas.pydata.org/) has a [10 minutes to pandas](https://pandas.pydata.org/docs/user_guide/10min.html) tutorial. Use these resources! If you want to learn how to use a function, **look it up** and read the paragraph about it. It will tell you how to use the arguments, any quirks to expect, and in some cases it will give you references about the papers behind the function. This is especially true in image processing and other fields that rely heavily on algorithms. So, the documentation will tell you not only how to use the code, but also **where it comes from**. And make sure to check out the Official Python docs at https://docs.python.org/3/.\n",
    "\n",
    "### Books\n",
    "\n",
    "Books, books, books! There are tons! And tons of books out there! For example, there are a couple that are free online:\n",
    "* *Think Python 2e* by Allen B. Downey (FREE book): https://greenteapress.com/wp/think-python-2e/\n",
    "* *Data Structures and Information Retrieval in Python* also by Allen B. Downey (FREE book): https://greenteapress.com/wp/data-structures-and-information-retrieval-in-python/\n",
    "\n",
    "Through the databases at the McGill Library, we also have access to lots of books **for free**. Check out the library's online catalogue to see more.\n",
    "\n",
    "### Tutorials\n",
    "\n",
    "Tutorials are also great! And very much abundant! From more formal ones on sites like [freeCodeCamp](https://www.freecodecamp.org/) and [W3Schools](https://www.w3schools.com/python/default.asp) to less formal ones on [DEV](https://dev.to/), you can get lots of insight from these. There are also lots posted on Medium that you can check out. In addition to text-based tutorials, there are also videos on YouTube. And don't forget the official tutorials in the documentation! Tutorials are a very valuable resource that can help you see how to put pieces of code together in real-world examples.\n",
    "\n",
    "### Stack Overflow (and Pitfalls)\n",
    "\n",
    "If you have a Python question, chances are that someone, somewhere has asked it on [Stack Overflow](https://stackoverflow.com/). Stack Overflow is a **great** resource for finding answers to real questions about programming. **But** make sure that you're using it properly. Try the other resources before going to Stack Overflow. The answer may turn out to be on the documentation page for the function you're looking for. If there's a link to the docs in a Stack Overflow answer, **use it**. Check out in more detail. Make sure that you understand the code that you're about to add to your project and don't just copy-paste it. Coding is a thinking game. Make sure that you have thought about all the code that you're putting in and that you understand why it's there. And use your judgement and intuition when borrowing that code. If it looks sketchy, it could very well be sketchy and there may be a better way.\n",
    "\n",
    "### ChatGPT (and Pitfalls)\n",
    "\n",
    "Everything I said above about Stack Overflow. And more. Answers on Stack Overflow are written by humans who have written the code, tested it, and run the results. Be careful when using ChatGPT for code (if you're allowed to at all). Make extra sure that it makes sense, and test it. Don't just trust it because AI wrote it for you. You need to make extra sure that it actually makes sense and runs properly, because you don't have that same guarantee that a human has used this exact code in their own experience. Use your coding judgement and intuition.\n",
    "\n",
    "Again, ALWAYS remember to **read the documentation**. Often, if you're stuck, the answer is **right there**. If it's not, then it's probably on Stack Overflow. It's often a good idea to check the documentation **first** to see if there's an official explanation or an official example. And don't just copy a Stack Overflow answer or sample code. Think about what the code is doing. Does it make sense? Is there a better way? Try to look line by line to understand what is going on (play around in the IPython interpreter or in a Jupyter notebook!).\n",
    "\n",
    "## Other Cool Programming Topics\n",
    "\n",
    "So, I talked a bit about functions and classes, but there's much more that you can look into to help build your programming skills and write code that others will want to use.\n",
    "\n",
    "### Writing Packages\n",
    "\n",
    "We've seen how to install and use packages. But, you can also **write your own packages**. There are many great resources online about writing packages. The one that I most recommend is [this free online book](https://py-pkgs.org/): *Python Packages* by Tomas Beuszen and Tiffany Timbers. It's an easy read and helps you learn not only how to organise your code, but how to publish it, too. The authors also walk through how to render your own nice-looking documentation and host that online.\n",
    "\n",
    "### Object-Oriented Programming\n",
    "\n",
    "Writing code with loops and control flow is fun, but it's even better when we can combine everything into functions and classes and work in an **object-oriented** manner. This paradigm helps you organise your code differently, constructing building blocks that can work together to build elaborate programs.\n",
    "\n",
    "### Developing Graphical User Interfaces\n",
    "\n",
    "Jupyter notebooks and command line scripts are powerful, but they aren't accessible for people who don't know how to code. Solution: build a graphical user interface! Using PyQt, the process is quite straightforward. Check out [this online tutorial series](https://www.pythonguis.com/) by Martin Fitzpatrick to learn about developing GUIs in Python.\n",
    "\n",
    "### Hosting Projects on GitHub\n",
    "\n",
    "What fun is a project if other people can't use it? By hosting your project on GitHub, you let others easily contribute to your project and build on it. Learning Git and GitHub are essential! And so are a few other skills along the way, like writing documents in Markdown. MiCM often has Git and GitHub workshops, so check out their workshop schedule!\n",
    "\n",
    "## The End\n",
    "\n",
    "We've reached the end of our workshop! For those of you who have previous programming experience, congratulations on adding another language to your repertoire. For those of you who are new, welcome to the world of programming! Just remember, programming is like art: you start with an empty text file and soon enough, you have hundreds (or thousands) of lines of code!\n",
    "\n",
    "Don't hesitate to reach out if you have any further questions. Happy coding!"
   ]
  },
  {
   "cell_type": "code",
   "execution_count": null,
   "metadata": {},
   "outputs": [],
   "source": [
    "from time import sleep\n",
    "\n",
    "\n",
    "print(\"Good luck with your programming future!\", end=\" \")\n",
    "\n",
    "i = 1\n",
    "s = \"/-\\|\"\n",
    "\n",
    "print(s[0], end=\"\")\n",
    "\n",
    "while i < 10:\n",
    "    print(\"\\b\" + s[i % len(s)], end=\"\")\n",
    "    i += 1\n",
    "    sleep(0.5)\n",
    "\n",
    "print(\"\\b🎉\")"
   ]
  },
  {
   "cell_type": "code",
   "execution_count": null,
   "metadata": {},
   "outputs": [],
   "source": []
  }
 ],
 "metadata": {
  "kernelspec": {
   "display_name": "Python 3 (ipykernel)",
   "language": "python",
   "name": "python3"
  },
  "language_info": {
   "codemirror_mode": {
    "name": "ipython",
    "version": 3
   },
   "file_extension": ".py",
   "mimetype": "text/x-python",
   "name": "python",
   "nbconvert_exporter": "python",
   "pygments_lexer": "ipython3",
   "version": "3.8.8"
  },
  "vscode": {
   "interpreter": {
    "hash": "13c98b8d613a5abad5ec2eff704454d0e7a49a4b350426332a70c2ad354463af"
   }
  }
 },
 "nbformat": 4,
 "nbformat_minor": 4
}
