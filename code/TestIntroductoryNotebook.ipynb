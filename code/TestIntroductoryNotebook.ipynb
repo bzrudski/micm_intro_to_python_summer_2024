{
 "cells": [
  {
   "cell_type": "markdown",
   "metadata": {},
   "source": [
    "# Welcome!\n",
    "This notebook doesn't really have much in it. It's meant to provide you with an opportunity to play around with Jupyter notebooks before the workshop.\n",
    "\n",
    "-- Benjamin Rudski"
   ]
  },
  {
   "cell_type": "markdown",
   "metadata": {},
   "source": [
    "This is a **text cell**. It doesn't really do anything in the programming sense, but it can do a lot to explain to your reader what is going on here. You can *style* the text in `fun ways` using **markdown**. If you want to learn more about markdown syntax, feel free to visit [this link](https://www.markdownguide.org/)."
   ]
  },
  {
   "cell_type": "code",
   "execution_count": null,
   "metadata": {},
   "outputs": [],
   "source": [
    "# This is a code cell\n",
    "# You put code here. Usually it's Python code, but you can configure Jupyter Notebooks to run with other languages, too!\n",
    "print(\"I am a cell that runs code. My output shows under me!\")"
   ]
  },
  {
   "cell_type": "code",
   "execution_count": null,
   "metadata": {},
   "outputs": [],
   "source": [
    "# This code does a bit more\n",
    "my_answer = (5 + 6) * 3\n",
    "my_string = \"Hello! \"\n",
    "my_repeated_string = my_string * my_answer\n",
    "\n",
    "my_repeated_string"
   ]
  },
  {
   "cell_type": "markdown",
   "metadata": {},
   "source": [
    "That's about it for now... But don't worry! The notebook at the workshop will be quite a bit longer!"
   ]
  }
 ],
 "metadata": {
  "kernelspec": {
   "display_name": "base",
   "language": "python",
   "name": "python3"
  },
  "language_info": {
   "codemirror_mode": {
    "name": "ipython",
    "version": 3
   },
   "file_extension": ".py",
   "mimetype": "text/x-python",
   "name": "python",
   "nbconvert_exporter": "python",
   "pygments_lexer": "ipython3",
   "version": "3.8.8"
  },
  "orig_nbformat": 4
 },
 "nbformat": 4,
 "nbformat_minor": 2
}
